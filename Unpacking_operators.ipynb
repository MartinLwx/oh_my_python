{
 "cells": [
  {
   "cell_type": "markdown",
   "id": "58eac1eb",
   "metadata": {},
   "source": [
    "## Intro\n",
    "\n",
    "Today I want to talk about the unpacking operators(`*` and `**`) in python."
   ]
  },
  {
   "cell_type": "markdown",
   "id": "31ca9ffb",
   "metadata": {},
   "source": [
    "## Basic usage"
   ]
  },
  {
   "cell_type": "markdown",
   "id": "083e479a",
   "metadata": {},
   "source": [
    "We use `*` for numeric data types to indicate we want to do multiplication. However, we can also apply `*` to **iterable objects**[^1], which means we want to unpack all the elements inside them.\n",
    "\n",
    "> 📒The built-in iterable objects: `list`, `tuple`, `set`, and `dict`"
   ]
  },
  {
   "cell_type": "markdown",
   "id": "bc2f7f9d",
   "metadata": {},
   "source": [
    "### Starred assignment/expression\n",
    "\n",
    "In the release of python 3.0, it is shipped with powerful iterable unpacking operations[^3], which is called the starred assignment/expression(or parallel assignment).\n",
    "\n",
    "We are allowed to specify a *catch-all* name in the LHS(i.e. Left Hand Side) of `=` to catch values in the RHS(i.e. Right Hand Side). The example says more:\n",
    "\n",
    "```python\n",
    ">>> first, *rest, last = [1, 2, 3, 4, 5]\n",
    ">>> first\n",
    "1\n",
    ">>> rest\n",
    "[2, 3, 4]\n",
    ">>> last \n",
    "5\n",
    "```\n",
    "\n",
    "> 📒 The syntax is quite simple: a variable name follows a star - `*foo`. we can put it anywhere in the LHS of `=` to catch items, but **only once**. Also, the type of `foo` will be `list`"
   ]
  },
  {
   "cell_type": "markdown",
   "id": "9ab4d1d3",
   "metadata": {},
   "source": [
    "In my opinion, this feature makes python code **more human-readable**👍\n",
    "\n",
    "There are some restrictions though:\n",
    "- We can't just use a single `*foo` in the LHS of `=` as a long assignment target. **The LHS must be in a list or tuple**\n",
    "- It would be an error if the RHS of `=` doesn't have enough items to unpack\n",
    "\n",
    "To demonstrate the restrictions:"
   ]
  },
  {
   "cell_type": "code",
   "execution_count": 1,
   "id": "9ddf7ff2",
   "metadata": {},
   "outputs": [
    {
     "ename": "SyntaxError",
     "evalue": "starred assignment target must be in a list or tuple (3773300134.py, line 1)",
     "output_type": "error",
     "traceback": [
      "\u001b[0;36m  Cell \u001b[0;32mIn [1], line 1\u001b[0;36m\u001b[0m\n\u001b[0;31m    *first = [1, 2, 3]\u001b[0m\n\u001b[0m    ^\u001b[0m\n\u001b[0;31mSyntaxError\u001b[0m\u001b[0;31m:\u001b[0m starred assignment target must be in a list or tuple\n"
     ]
    }
   ],
   "source": [
    "*first = [1, 2, 3]"
   ]
  },
  {
   "cell_type": "code",
   "execution_count": 2,
   "id": "7810c68d",
   "metadata": {},
   "outputs": [
    {
     "data": {
      "text/plain": [
       "[1, 2, 3]"
      ]
     },
     "execution_count": 2,
     "metadata": {},
     "output_type": "execute_result"
    }
   ],
   "source": [
    "# just add `,` would be fine\n",
    "# now the LHS is a tuple\n",
    "*first, = [1, 2, 3]       \n",
    "first"
   ]
  },
  {
   "cell_type": "code",
   "execution_count": 3,
   "id": "6c82147a",
   "metadata": {},
   "outputs": [
    {
     "ename": "ValueError",
     "evalue": "not enough values to unpack (expected at least 2, got 1)",
     "output_type": "error",
     "traceback": [
      "\u001b[0;31m---------------------------------------------------------------------------\u001b[0m",
      "\u001b[0;31mValueError\u001b[0m                                Traceback (most recent call last)",
      "Cell \u001b[0;32mIn [3], line 1\u001b[0m\n\u001b[0;32m----> 1\u001b[0m first, second, \u001b[38;5;241m*\u001b[39mrest \u001b[38;5;241m=\u001b[39m [\u001b[38;5;241m1\u001b[39m]\n",
      "\u001b[0;31mValueError\u001b[0m: not enough values to unpack (expected at least 2, got 1)"
     ]
    }
   ],
   "source": [
    "first, second, *rest = [1]"
   ]
  },
  {
   "cell_type": "markdown",
   "id": "092e4ac2",
   "metadata": {},
   "source": [
    "> 📒 **Usually, we will combine `*` and `_`(i.e. `*_`) to indicate we don't care about the items it caught**"
   ]
  },
  {
   "cell_type": "code",
   "execution_count": 4,
   "id": "a8607570",
   "metadata": {},
   "outputs": [
    {
     "data": {
      "text/plain": [
       "1"
      ]
     },
     "execution_count": 4,
     "metadata": {},
     "output_type": "execute_result"
    }
   ],
   "source": [
    "first, *_ = [1, 2, 3]\n",
    "first"
   ]
  },
  {
   "cell_type": "markdown",
   "id": "ecfaa76f",
   "metadata": {},
   "source": [
    "### More power"
   ]
  },
  {
   "cell_type": "markdown",
   "id": "bba883e8",
   "metadata": {},
   "source": [
    "Start from Python 3.5, we can use `*` and `**` in more circumstances.[^2]\n",
    "\n",
    "**Case 1**. we are allowed to use them as many times as we want inside function calls"
   ]
  },
  {
   "cell_type": "code",
   "execution_count": 5,
   "id": "6a748ebf",
   "metadata": {},
   "outputs": [
    {
     "data": {
      "text/plain": [
       "{'a': 1, 'b': 2, 'c': 3, 'd': 4}"
      ]
     },
     "execution_count": 5,
     "metadata": {},
     "output_type": "execute_result"
    }
   ],
   "source": [
    "foo, bar = {'a': 1, 'b': 2}, {'c': 3, 'd': 4}\n",
    "dict(**foo, **bar) # dict is a function"
   ]
  },
  {
   "cell_type": "markdown",
   "id": "f097829b",
   "metadata": {},
   "source": [
    "> 📒The keys in a dictionary remain in a right-to-left priority order[^2]. i.e. The later values will always override the earlier ones. *See the following example*:"
   ]
  },
  {
   "cell_type": "code",
   "execution_count": 6,
   "id": "3a4137e3",
   "metadata": {},
   "outputs": [
    {
     "data": {
      "text/plain": [
       "{'a': 3, 'b': 2}"
      ]
     },
     "execution_count": 6,
     "metadata": {},
     "output_type": "execute_result"
    }
   ],
   "source": [
    "{**{'a': 1, 'b': 2}, **{'a': 3}}"
   ]
  },
  {
   "cell_type": "markdown",
   "id": "915ecd74",
   "metadata": {},
   "source": [
    "> 📒When we use multiple `**` in function calls. We need to **make sure they have no duplicate keys.**"
   ]
  },
  {
   "cell_type": "code",
   "execution_count": 7,
   "id": "e2493543",
   "metadata": {},
   "outputs": [
    {
     "ename": "TypeError",
     "evalue": "dict() got multiple values for keyword argument 'a'",
     "output_type": "error",
     "traceback": [
      "\u001b[0;31m---------------------------------------------------------------------------\u001b[0m",
      "\u001b[0;31mTypeError\u001b[0m                                 Traceback (most recent call last)",
      "Cell \u001b[0;32mIn [7], line 1\u001b[0m\n\u001b[0;32m----> 1\u001b[0m \u001b[38;5;28mdict\u001b[39m(\u001b[38;5;241m*\u001b[39m\u001b[38;5;241m*\u001b[39m{\u001b[38;5;124m'\u001b[39m\u001b[38;5;124ma\u001b[39m\u001b[38;5;124m'\u001b[39m: \u001b[38;5;241m1\u001b[39m, \u001b[38;5;124m'\u001b[39m\u001b[38;5;124mb\u001b[39m\u001b[38;5;124m'\u001b[39m: \u001b[38;5;241m2\u001b[39m}, \u001b[38;5;241m*\u001b[39m\u001b[38;5;241m*\u001b[39m{\u001b[38;5;124m'\u001b[39m\u001b[38;5;124ma\u001b[39m\u001b[38;5;124m'\u001b[39m: \u001b[38;5;241m3\u001b[39m})\n",
      "\u001b[0;31mTypeError\u001b[0m: dict() got multiple values for keyword argument 'a'"
     ]
    }
   ],
   "source": [
    "dict(**{'a': 1, 'b': 2}, **{'a': 3})"
   ]
  },
  {
   "cell_type": "markdown",
   "id": "f9cbe38d",
   "metadata": {},
   "source": [
    "**Case 2.** We **can** use them in tuple/list/set/dict **literals**. But we **can't** use them inside the list/set/dict comprehensions😺"
   ]
  },
  {
   "cell_type": "code",
   "execution_count": 8,
   "id": "d0f1be27",
   "metadata": {},
   "outputs": [
    {
     "data": {
      "text/plain": [
       "{'x': 1, 'y': 2}"
      ]
     },
     "execution_count": 8,
     "metadata": {},
     "output_type": "execute_result"
    }
   ],
   "source": [
    "# an example drawn from PEP 448\n",
    ">>> *range(4), 4\n",
    "(0, 1, 2, 3, 4)\n",
    ">>> [*range(4), 4]\n",
    "[0, 1, 2, 3, 4]\n",
    ">>> {*range(4), 4}\n",
    "{0, 1, 2, 3, 4}\n",
    ">>> {'x': 1, **{'y': 2}}\n",
    "{'x': 1, 'y': 2}"
   ]
  },
  {
   "cell_type": "code",
   "execution_count": 9,
   "id": "3a33b93d",
   "metadata": {},
   "outputs": [
    {
     "ename": "SyntaxError",
     "evalue": "iterable unpacking cannot be used in comprehension (2669952830.py, line 5)",
     "output_type": "error",
     "traceback": [
      "\u001b[0;36m  Cell \u001b[0;32mIn [9], line 5\u001b[0;36m\u001b[0m\n\u001b[0;31m    [*sublist for sublist in matrix]\u001b[0m\n\u001b[0m     ^\u001b[0m\n\u001b[0;31mSyntaxError\u001b[0m\u001b[0;31m:\u001b[0m iterable unpacking cannot be used in comprehension\n"
     ]
    }
   ],
   "source": [
    "matrix = [\n",
    "    [1, 2, 3]\n",
    "    [4, 5, 6]\n",
    "]\n",
    "[*sublist for sublist in matrix]"
   ]
  },
  {
   "cell_type": "markdown",
   "id": "ec67857c",
   "metadata": {},
   "source": [
    "## Wrap up\n",
    "\n",
    "The unpacking feature in python makes life easier. It's **an intuitive way to *destructure* the iterable object**. With the help of this operator, we can avoid some silly indexError🙅"
   ]
  },
  {
   "cell_type": "markdown",
   "id": "171c9f67",
   "metadata": {},
   "source": [
    "## Refs\n",
    "\n",
    "[^1]: [Python iterators](https://www.w3schools.com/python/python_iterators.asp)\n",
    "\n",
    "[^2]: [PEP 448. Additional Unpacking Generalizations](https://peps.python.org/pep-0448/)\n",
    "\n",
    "[^3]: [PEP 3132. Extended Iterable Unpacking](https://peps.python.org/pep-3132/)"
   ]
  }
 ],
 "metadata": {
  "kernelspec": {
   "display_name": "Python 3 (ipykernel)",
   "language": "python",
   "name": "python3"
  },
  "language_info": {
   "codemirror_mode": {
    "name": "ipython",
    "version": 3
   },
   "file_extension": ".py",
   "mimetype": "text/x-python",
   "name": "python",
   "nbconvert_exporter": "python",
   "pygments_lexer": "ipython3",
   "version": "3.11.0"
  }
 },
 "nbformat": 4,
 "nbformat_minor": 5
}
