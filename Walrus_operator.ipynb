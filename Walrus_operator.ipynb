{
 "cells": [
  {
   "cell_type": "markdown",
   "id": "2a9739cc",
   "metadata": {},
   "source": [
    "## Intro\n",
    "\n",
    "Today I’m going to talk about a new feature introduced in Python 3.8: the Walrus operator（`:=`）, which is a much-debated feature, but it’s finally passed and released 🤔\n",
    "\n",
    "In Python, an assignment statement (`=`) is not an expression but a statement. Walrus operator is expression though. The difference between statement and expression can be simply understood as: expression always returns a value, while statement does not return a value.\n",
    "\n",
    "The difference between the two can be seen in the following code:"
   ]
  },
  {
   "cell_type": "code",
   "execution_count": 1,
   "id": "67839ab9",
   "metadata": {},
   "outputs": [],
   "source": [
    "# `=` is a statement, so it will print no value\n",
    "x = 5   "
   ]
  },
  {
   "cell_type": "code",
   "execution_count": 2,
   "id": "32111a21",
   "metadata": {},
   "outputs": [
    {
     "data": {
      "text/plain": [
       "5"
      ]
     },
     "execution_count": 2,
     "metadata": {},
     "output_type": "execute_result"
    }
   ],
   "source": [
    "# `:=` is an expression, so it will evaluate to a value\n",
    "# not recommended :)\n",
    "(x := 5) "
   ]
  },
  {
   "cell_type": "markdown",
   "id": "bbbde89f",
   "metadata": {},
   "source": [
    "> 📒 The `()` needs to be added to avoid confusion. According to the [Zen of Python](https://peps.python.org/pep-0020/): \"There should be one-- and preferably only one --obvious way to do it.\". If we can use it without `()`, we definitely will be confused about which one to use 🤕️"
   ]
  },
  {
   "cell_type": "markdown",
   "id": "d172341a",
   "metadata": {},
   "source": [
    "In C/C++, `=` is an expression. We can write this:\n",
    "\n",
    "```c\n",
    "// = will store the value in the LHS(left-hand-side) variable.\n",
    "// , and it has the value of the LHS\n",
    "// so we store the result of `foo` function call to `a`\n",
    "// , then we check if `a` > 0\n",
    "while ( (a = foo(...)) > 0 ) {\n",
    "    ...\n",
    "}\n",
    "```\n",
    "\n",
    "Before Python 3.8, it was not possible to do something similar. Because the `=` is a statement. This is where the walrus expression comes into play 🤩"
   ]
  },
  {
   "cell_type": "markdown",
   "id": "fc0f61bb",
   "metadata": {},
   "source": [
    "## Syntax rules\n",
    "\n",
    "- The syntax of walrus expressions is quite simple: `NAME := EXPRESSION`. `:=` assigns the value of `EXPRESSION` to `NAME`.\n",
    "    - we are not allowed to use attributes or subscripts as `NAME`. See the code below"
   ]
  },
  {
   "cell_type": "code",
   "execution_count": 3,
   "id": "2b838f6d",
   "metadata": {},
   "outputs": [
    {
     "name": "stdout",
     "output_type": "stream",
     "text": [
      "res is 6\n"
     ]
    }
   ],
   "source": [
    "# a dummy example. we bind `1 + 2 + 3` to `res` for future usage\n",
    "if (res := 1 + 2 + 3) > 5:\n",
    "    print(f\"res is {res}\")"
   ]
  },
  {
   "cell_type": "code",
   "execution_count": 4,
   "id": "ac089c44",
   "metadata": {},
   "outputs": [
    {
     "ename": "SyntaxError",
     "evalue": "cannot use assignment expressions with attribute (1863382786.py, line 6)",
     "output_type": "error",
     "traceback": [
      "\u001b[0;36m  Input \u001b[0;32mIn [4]\u001b[0;36m\u001b[0m\n\u001b[0;31m    (some_foo.val := 1)\u001b[0m\n\u001b[0m     ^\u001b[0m\n\u001b[0;31mSyntaxError\u001b[0m\u001b[0;31m:\u001b[0m cannot use assignment expressions with attribute\n"
     ]
    }
   ],
   "source": [
    "class foo:\n",
    "    val: int = 0\n",
    "\n",
    "some_foo = foo()\n",
    "\n",
    "(some_foo.val := 1)"
   ]
  },
  {
   "cell_type": "code",
   "execution_count": 5,
   "id": "aa52b2a5",
   "metadata": {},
   "outputs": [
    {
     "ename": "SyntaxError",
     "evalue": "cannot use assignment expressions with subscript (152354199.py, line 3)",
     "output_type": "error",
     "traceback": [
      "\u001b[0;36m  Input \u001b[0;32mIn [5]\u001b[0;36m\u001b[0m\n\u001b[0;31m    (x[1] := 3)\u001b[0m\n\u001b[0m     ^\u001b[0m\n\u001b[0;31mSyntaxError\u001b[0m\u001b[0;31m:\u001b[0m cannot use assignment expressions with subscript\n"
     ]
    }
   ],
   "source": [
    "x = [1, 2, 3]\n",
    "\n",
    "(x[1] := 3)"
   ]
  },
  {
   "cell_type": "markdown",
   "id": "3023ba31",
   "metadata": {},
   "source": [
    "- The scope of `NAME`\n",
    "    - Walrus expressions do not introduce new scopes 🤩\n",
    "    - `NAME` can be used in the current scope, with one exception: if it is used inside a list/dict/set comprehension. We can use `NAME` in the enclosing scope. See the following example:"
   ]
  },
  {
   "cell_type": "code",
   "execution_count": 6,
   "id": "93702bb0",
   "metadata": {},
   "outputs": [
    {
     "ename": "NameError",
     "evalue": "name 'item' is not defined",
     "output_type": "error",
     "traceback": [
      "\u001b[0;31m---------------------------------------------------------------------------\u001b[0m",
      "\u001b[0;31mNameError\u001b[0m                                 Traceback (most recent call last)",
      "Input \u001b[0;32mIn [6]\u001b[0m, in \u001b[0;36m<cell line: 7>\u001b[0;34m()\u001b[0m\n\u001b[1;32m      4\u001b[0m double_s \u001b[38;5;241m=\u001b[39m [item \u001b[38;5;241m*\u001b[39m \u001b[38;5;241m2\u001b[39m \u001b[38;5;28;01mfor\u001b[39;00m item \u001b[38;5;129;01min\u001b[39;00m s]\n\u001b[1;32m      6\u001b[0m \u001b[38;5;66;03m# `item` is not in the global scope :)\u001b[39;00m\n\u001b[0;32m----> 7\u001b[0m \u001b[38;5;28mprint\u001b[39m(\u001b[43mitem\u001b[49m)\n",
      "\u001b[0;31mNameError\u001b[0m: name 'item' is not defined"
     ]
    }
   ],
   "source": [
    "s = [1, 2, 3]\n",
    "# the list comprehension forms a new scope. \n",
    "# its enclosing scope is the global scope\n",
    "double_s = [item * 2 for item in s]\n",
    "\n",
    "# `item` is not in the global scope :)\n",
    "print(item)"
   ]
  },
  {
   "cell_type": "code",
   "execution_count": null,
   "id": "ef06c56a",
   "metadata": {},
   "outputs": [],
   "source": [
    "s = [1, 2, 3]\n",
    "# the list comprehension forms a new scope. \n",
    "# its enclosing scope is the global scope\n",
    "double_s = [last := item * 2 for item in s]\n",
    "\n",
    "# so we can use `last` variable here\n",
    "print(last)"
   ]
  },
  {
   "cell_type": "markdown",
   "id": "045e1053",
   "metadata": {},
   "source": [
    "- Order of evaluation: lower than others except the comma(`,`)"
   ]
  },
  {
   "cell_type": "code",
   "execution_count": 7,
   "id": "efeed76a",
   "metadata": {},
   "outputs": [
    {
     "data": {
      "text/plain": [
       "(1, 2)"
      ]
     },
     "execution_count": 7,
     "metadata": {},
     "output_type": "execute_result"
    }
   ],
   "source": [
    "x = 1, 2\n",
    "x"
   ]
  },
  {
   "cell_type": "code",
   "execution_count": 8,
   "id": "e446a6d0",
   "metadata": {},
   "outputs": [
    {
     "data": {
      "text/plain": [
       "1"
      ]
     },
     "execution_count": 8,
     "metadata": {},
     "output_type": "execute_result"
    }
   ],
   "source": [
    "(x := 1, 2)\n",
    "x"
   ]
  },
  {
   "cell_type": "markdown",
   "id": "416ce062",
   "metadata": {},
   "source": [
    "## Usage\n",
    "\n",
    "> 📒 Combined with the content of [^1] and my personal programming experience. The most convenient thing about walrus expressions is: dealing with functions whose return value may be `None`\n",
    "\n",
    "To deal with functions that may return `None`, we will usually **first use the `=` statement to save the return result of the function**. Then we check if it is `None` so we can refer to it later safely\n",
    "```python\n",
    "some_thing = foo(....)\n",
    "if some_thing:\n",
    "    ...\n",
    "else:\n",
    "    ...\n",
    "```\n",
    "\n",
    "*I will use the `re` as an example*"
   ]
  },
  {
   "cell_type": "code",
   "execution_count": 9,
   "id": "e98e1483",
   "metadata": {},
   "outputs": [
    {
     "name": "stdout",
     "output_type": "stream",
     "text": [
      "Find match: 10\n"
     ]
    }
   ],
   "source": [
    "import re\n",
    "\n",
    "# define a regex pattern to extract digits in a string\n",
    "DIGIT_PATTERN = r'\\d+'  \n",
    "\n",
    "text = 'There are 10 dogs'\n",
    "\n",
    "# re.search will return None if no match was found.\n",
    "match = re.search(DIGIT_PATTERN, text)\n",
    "if match:\n",
    "    # group(0) will return the entire match\n",
    "    print(f\"Find match: {match.group(0)}\")   \n",
    "else:\n",
    "    print(\"Not match was found\")"
   ]
  },
  {
   "cell_type": "markdown",
   "id": "f6d8e725",
   "metadata": {},
   "source": [
    "To avoid getting an `AttributeError: 'NoneType' object has no attribute 'group'` error when using `match.group()` later, we have to use an intermediate variable `match` to temporarily hold the return value rather then chain them together: `re.search(DIGIT_PATTERN, text).group(0)`. It may seem kind of redundant though.\n",
    "\n",
    "> 📒 In Rust, the return type that may return `None` is called `Option<T>`. We can use `?` to handle this situation, it will try to extract the value inside, and if it fails it will terminate early with an error. So in Rust, we can do this (assuming Rust has a similar API): `re.search(DIGIT_PATTERN, text)?.group(0)` 🍺\n",
    "\n",
    "The readability is slightly weaker in my opinion, of course, this is quite personal. i.e. We can only use the `match` variable when `match is not None`. There is no chance to use it inside the `else` branch. However, if we look at the code from the top down quickly, `match = ...` on a separate line is like the `match` can be used later everywhere 🤣\n",
    "\n",
    "Instead, **we can use `:=` to bind its return value** here:"
   ]
  },
  {
   "cell_type": "code",
   "execution_count": 10,
   "id": "d65da0ab",
   "metadata": {},
   "outputs": [
    {
     "name": "stdout",
     "output_type": "stream",
     "text": [
      "Find match: 10\n"
     ]
    }
   ],
   "source": [
    "if match := re.search(DIGIT_PATTERN, text):\n",
    "    # group(0) will return the entire match\n",
    "    print(f\"Find match: {match.group(0)}\")   \n",
    "else:\n",
    "    print(\"Not match was found\")"
   ]
  },
  {
   "cell_type": "markdown",
   "id": "105ec26c",
   "metadata": {},
   "source": [
    "[^1] One of the reasons for supporting `:=` is that research shows that developers tend to write fewer lines of code rather than shorter code. That's what we did here. At the same time, we can see the scope of `match` at a glance 👏\n",
    "\n",
    "\n",
    "Similarly, we can use this feature in `while` loops too:\n",
    "\n",
    "```python\n",
    "val = foo(...)\n",
    "while val:\n",
    "    # do something while val is not None\n",
    "    val = foo(...)\n",
    "```"
   ]
  },
  {
   "cell_type": "markdown",
   "id": "fb71d613",
   "metadata": {},
   "source": [
    "## 🆚 `=`\n",
    "\n",
    "A few differences worth mentioning:\n",
    "1. `=` is a statement, `:=` is an expression. This also determines their application scenarios.\n",
    "2. Only `=` supports the continuous use of `foo = bar = 1`; and the left side of `=` can be an attribute like `foo.bar`, or an subscript like `foo[1]`, but `:=` can only be a simple variable name on the left\n",
    "3. `=` supports the augmented form of `+=`, but `:=` does not"
   ]
  },
  {
   "cell_type": "markdown",
   "id": "22ba418b",
   "metadata": {},
   "source": [
    "## Wrap up\n",
    "\n",
    "In my opinion, the walrus operator is quite useful in the aforementioned scenarios (Recommended 👍), and the readability is much improved 🚀. But some examples in [^1] just make me more confused"
   ]
  },
  {
   "cell_type": "markdown",
   "id": "c021e055",
   "metadata": {},
   "source": [
    "## Refs\n",
    "\n",
    "[^1]: [PEP 572. Assignment Expressions](https://peps.python.org/pep-0572/)"
   ]
  }
 ],
 "metadata": {
  "kernelspec": {
   "display_name": "Python 3 (ipykernel)",
   "language": "python",
   "name": "python3"
  },
  "language_info": {
   "codemirror_mode": {
    "name": "ipython",
    "version": 3
   },
   "file_extension": ".py",
   "mimetype": "text/x-python",
   "name": "python",
   "nbconvert_exporter": "python",
   "pygments_lexer": "ipython3",
   "version": "3.10.6"
  }
 },
 "nbformat": 4,
 "nbformat_minor": 5
}
