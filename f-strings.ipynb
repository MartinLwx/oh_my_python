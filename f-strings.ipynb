{
 "cells": [
  {
   "cell_type": "markdown",
   "id": "80305dad",
   "metadata": {},
   "source": [
    "## Intro"
   ]
  },
  {
   "cell_type": "markdown",
   "id": "d761adc9",
   "metadata": {},
   "source": [
    "String formatting can be regarded as one of the most common activities in daily programming. We often need to output various strings and precisely control their format.\n",
    "\n",
    "In some outdated Python tutorials, you may see the use of `%` to format strings. However, after Python 3.6, f-strings have become the optimal choice for formatting strings. \n",
    "\n",
    "The advantages include:\n",
    "1. **Expressions can be embedded** in the string literals conveniently\n",
    "2. **More human-readable**\n",
    "\n",
    "*The following simple comparison shows the advantages of f-strings in readability*:"
   ]
  },
  {
   "cell_type": "code",
   "execution_count": 1,
   "id": "a875eafd",
   "metadata": {},
   "outputs": [
    {
     "data": {
      "text/plain": [
       "'My name is Martin'"
      ]
     },
     "execution_count": 1,
     "metadata": {},
     "output_type": "execute_result"
    }
   ],
   "source": [
    "name = \"Martin\"\n",
    "f\"My name is {name}\""
   ]
  },
  {
   "cell_type": "code",
   "execution_count": 2,
   "id": "7118cae2",
   "metadata": {},
   "outputs": [
    {
     "data": {
      "text/plain": [
       "'My name is Martin'"
      ]
     },
     "execution_count": 2,
     "metadata": {},
     "output_type": "execute_result"
    }
   ],
   "source": [
    "name = \"Martin\"\n",
    "\"My name is %s\" % name"
   ]
  },
  {
   "cell_type": "markdown",
   "id": "f4b2ec3f",
   "metadata": {},
   "source": [
    "We implemented the same string output in different ways.\n",
    "\n",
    "Without any effort, we can find that the f-strings here are to output the name (this requires you to use meaningful variables names, such as `name` here). On the contrary, it is slightly unnatural to look at the `%` format string. **We first saw it use `%s` as a placeholder, then we need to go to the right to find out which variable it refers to**. \n",
    "\n",
    "The example here is too short to show the real power of f-strings. Just trying to imagine that we are reading a long format string written in `%` syntax, we will need to look it back and forth to figure out what it means. Not just about reading the code, if you write a long format string by yourself, you have to check whether the order of the placeholders and variables is consistent, which is undoubtedly a burden. 😫"
   ]
  },
  {
   "cell_type": "markdown",
   "id": "d91eadfd",
   "metadata": {},
   "source": [
    "## Syntax rules"
   ]
  },
  {
   "cell_type": "markdown",
   "id": "5c8d1fca",
   "metadata": {},
   "source": [
    "The syntax rules of f-strings are quite simple. I will just borrow the definition from[^1]:\n",
    "\n",
    "`f'<text>{<expression><optional !s, !r, or !a> <optional:format_specifier> }<text>...'`\n",
    "\n",
    "In general, it can be summarized as `f\"...\"` or `f'...'`.\n",
    "\n",
    "Like regular strings in python, we can choose to use single quotes `''` or double quotes `\"\"` to enclose the content of the string. Triple quotes - `\"\"\"...\"\"\"` is also available.\n",
    "\n",
    "As for the other parts, we divide them into several subsections:"
   ]
  },
  {
   "cell_type": "markdown",
   "id": "98e08cfe",
   "metadata": {},
   "source": [
    "### `<text>`\n",
    "\n",
    "It means the string literals. The simplest usage scenario is a string without any expressions, which makes f-strings behave like regular strings. *like `f\"Hello world\"`*. ~~It would be an overkill if we just use f-strings to represent regular strings~~"
   ]
  },
  {
   "cell_type": "markdown",
   "id": "1d75b9ad",
   "metadata": {},
   "source": [
    "### `{<expression>}` \n",
    "\n",
    "Let's consider the simplest form: `{expression}` without any option parts (`<option...>` in aforementioned grammar)\n",
    "\n",
    "The `{<expression>}` shows how to embed an expression in f-strings: just put it inside {}. Here is a simple example:"
   ]
  },
  {
   "cell_type": "code",
   "execution_count": 3,
   "id": "f3d72dc5",
   "metadata": {},
   "outputs": [
    {
     "data": {
      "text/plain": [
       "'3 + 5 = 8'"
      ]
     },
     "execution_count": 3,
     "metadata": {},
     "output_type": "execute_result"
    }
   ],
   "source": [
    "left, right = 3, 5\n",
    "f\"{left} + {right} = {left + right}\""
   ]
  },
  {
   "cell_type": "markdown",
   "id": "77cb221a",
   "metadata": {},
   "source": [
    "Using `{}` as a placeholder naturally leads to a question-what if we want to output `{}` in the string.\n",
    "\n",
    "The answer is also very simple, we only need to use this format: `{{expression}}`"
   ]
  },
  {
   "cell_type": "code",
   "execution_count": 4,
   "id": "0450bf23",
   "metadata": {},
   "outputs": [
    {
     "data": {
      "text/plain": [
       "\"{'hello'}\""
      ]
     },
     "execution_count": 4,
     "metadata": {},
     "output_type": "execute_result"
    }
   ],
   "source": [
    "# 'hello' is an expression too. \n",
    "# Note that we need to use different quote syntax inside {}\n",
    "f\"{{'hello'}}\"   "
   ]
  },
  {
   "cell_type": "markdown",
   "id": "2c9b1263",
   "metadata": {},
   "source": [
    "It is also worth mentioning that `:` and `!` and `\\` **are not allowed in `expression`**\n",
    "\n",
    "These characters rarely appear in `expression` though. One usage scenario of `\\` is to escape quotes. However, we could just use a different type of quote inside the `expression`. As for `:`, a use case would be defining a lambda function in `expression`[^1]. In this situation, we only need to enclose the lambda expression within `()`:"
   ]
  },
  {
   "cell_type": "code",
   "execution_count": 5,
   "id": "eb105907",
   "metadata": {},
   "outputs": [
    {
     "data": {
      "text/plain": [
       "'4'"
      ]
     },
     "execution_count": 5,
     "metadata": {},
     "output_type": "execute_result"
    }
   ],
   "source": [
    "# note that we need to add () around the lambda expression\n",
    "f\"{(lambda x: x + 1)(3)}\" "
   ]
  },
  {
   "cell_type": "markdown",
   "id": "6bdad5c7",
   "metadata": {},
   "source": [
    "### `<option...>`"
   ]
  },
  {
   "cell_type": "markdown",
   "id": "db32c9fe",
   "metadata": {},
   "source": [
    "#### `<optional !s, !r, or !a>`\n",
    "\n",
    "These are used to perform **type conversion** on `<expression>`\n",
    "```python\n",
    "{foo!s}     # it's equal to call str(foo) first\n",
    "{foo!r}     # similarily, call repr(foo) first\n",
    "{foo!a}     # similarily，call ascii(foo) first\n",
    "```\n",
    "\n",
    "In fact, these three are redundant[^1]. It is just for minimizing the differences with `str.format()`"
   ]
  },
  {
   "cell_type": "markdown",
   "id": "7b727066",
   "metadata": {},
   "source": [
    "#### `<optional:format_specifier>`\n",
    "\n",
    "This part is to define how `expression` should be displayed, *for example, control the precision of decimals, or do string alignment, etc.*. \n",
    "\n",
    "Below I will briefly talk about some of them. For more detailed explanations, please refer to[^2]\n",
    "\n",
    "> Note that this `format_specifier` begins with `:` (this explains why we are not allowed use `:` in `expression`)\n",
    "\n",
    "The grammar of `format_specifier`:\n",
    "\n",
    "`[[fill]align][sign][z][#][0][width][,][grouping_option][.precision][type]`\n",
    "\n",
    "> In grammar, the `[...]` symbol means it is optional"
   ]
  },
  {
   "cell_type": "markdown",
   "id": "61671bab",
   "metadata": {},
   "source": [
    "##### `[[fill]align]`\n",
    "\n",
    "This part is used to pad(specify a character with `fill`) the `expression` and do alignments. The `fill` here can be any character(defaults to a space).\n",
    "\n",
    "> Note: We need to set minumul width by `[width]` when we declare `[[fill]align]`\n",
    "\n",
    "\n",
    "The various ways of alignment options:\n",
    "\n",
    "```python\n",
    "<        # left-aligned \n",
    ">        # right-aligned\n",
    "^        # centered\n",
    "=        # only valid for numeric types, pad between sign and digits\n",
    "```"
   ]
  },
  {
   "cell_type": "code",
   "execution_count": 6,
   "id": "110239c0",
   "metadata": {},
   "outputs": [
    {
     "data": {
      "text/plain": [
       "'***-1****'"
      ]
     },
     "execution_count": 6,
     "metadata": {},
     "output_type": "execute_result"
    }
   ],
   "source": [
    "f\"{-1:*^9}\"  # set `fill` to *, and set width to 9"
   ]
  },
  {
   "cell_type": "code",
   "execution_count": 7,
   "id": "69f28b0e",
   "metadata": {},
   "outputs": [
    {
     "data": {
      "text/plain": [
       "'*******-1'"
      ]
     },
     "execution_count": 7,
     "metadata": {},
     "output_type": "execute_result"
    }
   ],
   "source": [
    "f\"{-1:*>9}\"  # set `fill` to *, and set width to 9"
   ]
  },
  {
   "cell_type": "code",
   "execution_count": 8,
   "id": "23c999d2",
   "metadata": {},
   "outputs": [
    {
     "data": {
      "text/plain": [
       "'-1*******'"
      ]
     },
     "execution_count": 8,
     "metadata": {},
     "output_type": "execute_result"
    }
   ],
   "source": [
    "f\"{-1:*<9}\"  # set `fill` to *, and set width to 9"
   ]
  },
  {
   "cell_type": "code",
   "execution_count": 9,
   "id": "c081a90b",
   "metadata": {},
   "outputs": [
    {
     "data": {
      "text/plain": [
       "'-*******1'"
      ]
     },
     "execution_count": 9,
     "metadata": {},
     "output_type": "execute_result"
    }
   ],
   "source": [
    "f\"{-1:*=9}\"  # set `fill` to *, and set width to 9"
   ]
  },
  {
   "cell_type": "markdown",
   "id": "8dab0949",
   "metadata": {},
   "source": [
    "##### `[sign]`\n",
    "\n",
    "It decides how the sign will be represented and is only valid for numerical values.\n",
    "\n",
    "```python\n",
    "+      # both positive and negative\n",
    "-      # only negative (default)\n",
    "space  # a leading space for positive and minus sign for negative\n",
    "```"
   ]
  },
  {
   "cell_type": "code",
   "execution_count": 10,
   "id": "70ad2eb8",
   "metadata": {},
   "outputs": [
    {
     "data": {
      "text/plain": [
       "'+1'"
      ]
     },
     "execution_count": 10,
     "metadata": {},
     "output_type": "execute_result"
    }
   ],
   "source": [
    "f\"{1:+}\""
   ]
  },
  {
   "cell_type": "code",
   "execution_count": 11,
   "id": "94675b39",
   "metadata": {},
   "outputs": [
    {
     "data": {
      "text/plain": [
       "'-1'"
      ]
     },
     "execution_count": 11,
     "metadata": {},
     "output_type": "execute_result"
    }
   ],
   "source": [
    "f\"{-1:+}\""
   ]
  },
  {
   "cell_type": "code",
   "execution_count": 12,
   "id": "e0adaee1",
   "metadata": {},
   "outputs": [],
   "source": [
    "assert f\"{1}\" == f\"{1:-}\"   # because it's the default behavior"
   ]
  },
  {
   "cell_type": "markdown",
   "id": "abff1ccb",
   "metadata": {},
   "source": [
    "##### `[z]`\n",
    "\n",
    "After Python 3.11, we can use `z` to handle negative zero(i.e. `-0.`). According to the PEP[^3], programmars usually will suppress negative zero."
   ]
  },
  {
   "cell_type": "code",
   "execution_count": 13,
   "id": "730dfeab",
   "metadata": {},
   "outputs": [
    {
     "data": {
      "text/plain": [
       "'-0.0'"
      ]
     },
     "execution_count": 13,
     "metadata": {},
     "output_type": "execute_result"
    }
   ],
   "source": [
    "x = -0.0001\n",
    "f\"{x:.1f}\"   # set the precision to 1, so it will round to -0.0"
   ]
  },
  {
   "cell_type": "code",
   "execution_count": 14,
   "id": "92f9ce5a",
   "metadata": {},
   "outputs": [
    {
     "data": {
      "text/plain": [
       "'0.0'"
      ]
     },
     "execution_count": 14,
     "metadata": {},
     "output_type": "execute_result"
    }
   ],
   "source": [
    "x = -0.0001\n",
    "f\"{x:z.1f}\"  # with z, we will get 0.0 rather than -0.0"
   ]
  },
  {
   "cell_type": "markdown",
   "id": "f4f02c97",
   "metadata": {},
   "source": [
    "##### `[#]` and `[type]`\n",
    "\n",
    "`[#]` is only valid for integer, float, and complex types.\n",
    "- integer: add the respective prefix for the different base(radix)\n",
    "- float and complex: always add a decimal-point even if no digits follow it\n",
    "\n",
    "How to interpret the numbers in the different bases(radixes)? It's the `[type]`'s job:\n",
    "```python\n",
    "b        # base 2\n",
    "o        # base 8\n",
    "d        # base 10\n",
    "x        # base 16, low-case letters\n",
    "X        # base 16, upper-case letters\n",
    "```"
   ]
  },
  {
   "cell_type": "code",
   "execution_count": 15,
   "id": "e75526a0",
   "metadata": {},
   "outputs": [
    {
     "data": {
      "text/plain": [
       "'0b1111'"
      ]
     },
     "execution_count": 15,
     "metadata": {},
     "output_type": "execute_result"
    }
   ],
   "source": [
    "f\"{15:#b}\"     # represent 15 in base 2, use # to add prefix 0b"
   ]
  },
  {
   "cell_type": "code",
   "execution_count": 16,
   "id": "0b9e9457",
   "metadata": {},
   "outputs": [
    {
     "data": {
      "text/plain": [
       "'0XF'"
      ]
     },
     "execution_count": 16,
     "metadata": {},
     "output_type": "execute_result"
    }
   ],
   "source": [
    "f\"{15:#X}\"     # represent 15 in base 16, use # to add prefix 0X"
   ]
  },
  {
   "cell_type": "code",
   "execution_count": 17,
   "id": "dd9107b0",
   "metadata": {},
   "outputs": [
    {
     "data": {
      "text/plain": [
       "'3'"
      ]
     },
     "execution_count": 17,
     "metadata": {},
     "output_type": "execute_result"
    }
   ],
   "source": [
    "f\"{3:.0f}\""
   ]
  },
  {
   "cell_type": "code",
   "execution_count": 18,
   "id": "be03d7db",
   "metadata": {},
   "outputs": [
    {
     "data": {
      "text/plain": [
       "'3.'"
      ]
     },
     "execution_count": 18,
     "metadata": {},
     "output_type": "execute_result"
    }
   ],
   "source": [
    "f\"{3:#.0f}\""
   ]
  },
  {
   "cell_type": "markdown",
   "id": "35559106",
   "metadata": {},
   "source": [
    "##### `[0][width]`\n",
    "\n",
    "we set the minimal width by setting the `width`. If we also add the prefix `0` here, it means we will use `0` to pad the rest part."
   ]
  },
  {
   "cell_type": "code",
   "execution_count": 19,
   "id": "6fdb6383",
   "metadata": {},
   "outputs": [
    {
     "data": {
      "text/plain": [
       "'  123'"
      ]
     },
     "execution_count": 19,
     "metadata": {},
     "output_type": "execute_result"
    }
   ],
   "source": [
    "f\"{123:5}\"     # width 5"
   ]
  },
  {
   "cell_type": "code",
   "execution_count": 20,
   "id": "5ec47b8c",
   "metadata": {},
   "outputs": [
    {
     "data": {
      "text/plain": [
       "'00123'"
      ]
     },
     "execution_count": 20,
     "metadata": {},
     "output_type": "execute_result"
    }
   ],
   "source": [
    "f\"{123:05}\"    # width 5 with leading 0"
   ]
  },
  {
   "cell_type": "code",
   "execution_count": 21,
   "id": "9b055461",
   "metadata": {},
   "outputs": [
    {
     "data": {
      "text/plain": [
       "'123.1'"
      ]
     },
     "execution_count": 21,
     "metadata": {},
     "output_type": "execute_result"
    }
   ],
   "source": [
    "f\"{123.1:5}\"   # Note: the width includes the decimal point char"
   ]
  },
  {
   "cell_type": "markdown",
   "id": "858d7d6f",
   "metadata": {},
   "source": [
    "##### `[grouping_option]`\n",
    "\n",
    "Specify the thousands separators. Two options available[^4][^5]：\n",
    "- `_`\n",
    "- `,`\n",
    "\n",
    "Both separators will make the long numbers more human-readable. "
   ]
  },
  {
   "cell_type": "code",
   "execution_count": 22,
   "id": "fc6107db",
   "metadata": {},
   "outputs": [
    {
     "data": {
      "text/plain": [
       "'123,456,789'"
      ]
     },
     "execution_count": 22,
     "metadata": {},
     "output_type": "execute_result"
    }
   ],
   "source": [
    "f\"{123456789:,}\""
   ]
  },
  {
   "cell_type": "code",
   "execution_count": 23,
   "id": "4cd01149",
   "metadata": {},
   "outputs": [
    {
     "data": {
      "text/plain": [
       "'1,234.56789'"
      ]
     },
     "execution_count": 23,
     "metadata": {},
     "output_type": "execute_result"
    }
   ],
   "source": [
    "f\"{1234.56789:,}\""
   ]
  },
  {
   "cell_type": "code",
   "execution_count": 24,
   "id": "a7ecc757",
   "metadata": {},
   "outputs": [
    {
     "data": {
      "text/plain": [
       "'123_456_789'"
      ]
     },
     "execution_count": 24,
     "metadata": {},
     "output_type": "execute_result"
    }
   ],
   "source": [
    "f\"{123456789:_}\""
   ]
  },
  {
   "cell_type": "code",
   "execution_count": 25,
   "id": "dc449897",
   "metadata": {},
   "outputs": [
    {
     "data": {
      "text/plain": [
       "'1_234.56789'"
      ]
     },
     "execution_count": 25,
     "metadata": {},
     "output_type": "execute_result"
    }
   ],
   "source": [
    "f\"{1234.56789:_}\""
   ]
  },
  {
   "cell_type": "markdown",
   "id": "af10c849",
   "metadata": {},
   "source": [
    "##### `[.precision]`\n",
    "\n",
    "How many digits should be displayed after the `.`?"
   ]
  },
  {
   "cell_type": "code",
   "execution_count": 26,
   "id": "232d6ce9",
   "metadata": {},
   "outputs": [
    {
     "data": {
      "text/plain": [
       "'123.46'"
      ]
     },
     "execution_count": 26,
     "metadata": {},
     "output_type": "execute_result"
    }
   ],
   "source": [
    "f\"{123.456:.2f}\""
   ]
  },
  {
   "cell_type": "markdown",
   "id": "dbaaddba",
   "metadata": {},
   "source": [
    "## Wrap up\n",
    "\n",
    "When I start to learn python a long time ago, most of the tutorials says we should use `%` to format strings. After `str.format` appears, it became a better choice and outdated the `%` syntax. F-strings, released with python 3.6, has become the best practice now.🚀 It meets the zen of python - *There should be one– and preferably only one –obvious way to do it*"
   ]
  },
  {
   "cell_type": "markdown",
   "id": "d1dcbe02",
   "metadata": {},
   "source": [
    "## Refs\n",
    "\n",
    "[^1]: [PEP 498 – Literal String Interpolation](https://peps.python.org/pep-0498/)\n",
    "\n",
    "[^2]: [Format Specifications](https://docs.python.org/3/library/string.html#format-specification-mini-language)\n",
    "\n",
    "[^3]: [PEP 682 – Format Specifier for Signed Zero](https://peps.python.org/pep-0682/)\n",
    "\n",
    "[^4]: [PEP 378 – Format Specifier for Thousands Separator](https://peps.python.org/pep-0378/)\n",
    "\n",
    "[^5]: [PEP 515. Underscores in Numeric Literals](https://peps.python.org/pep-0515/)\n",
    "\n",
    "[^6]: [Zen of python](https://en.wikipedia.org/wiki/Zen_of_Python)"
   ]
  }
 ],
 "metadata": {
  "kernelspec": {
   "display_name": "Python 3 (ipykernel)",
   "language": "python",
   "name": "python3"
  },
  "language_info": {
   "codemirror_mode": {
    "name": "ipython",
    "version": 3
   },
   "file_extension": ".py",
   "mimetype": "text/x-python",
   "name": "python",
   "nbconvert_exporter": "python",
   "pygments_lexer": "ipython3",
   "version": "3.11.0"
  }
 },
 "nbformat": 4,
 "nbformat_minor": 5
}
