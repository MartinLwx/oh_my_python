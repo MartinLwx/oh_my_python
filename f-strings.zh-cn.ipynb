{
 "cells": [
  {
   "cell_type": "markdown",
   "id": "80305dad",
   "metadata": {},
   "source": [
    "## 引言"
   ]
  },
  {
   "cell_type": "markdown",
   "id": "d761adc9",
   "metadata": {},
   "source": [
    "字符串格式化绝对可以算得上日常生活中最为常用的功能之一，我们经常需要输出各种字符串还需要精确控制其格式\n",
    "\n",
    "在一些过时的 Python 教程上，还可以看到使用 `%` 来格式化字符串。但其实在 Python 3.6 之后，f-strings 已经成了格式化字符串的最优解，优点包括：\n",
    "1. 可以在字符串字面值（String literal）里面**内嵌表达式**\n",
    "2. **可读性非常强**\n",
    "\n",
    "*下面的简单对比就可以看出 f-strings 在可读性上的优势*："
   ]
  },
  {
   "cell_type": "code",
   "execution_count": 1,
   "id": "a875eafd",
   "metadata": {},
   "outputs": [
    {
     "data": {
      "text/plain": [
       "'My name is Martin'"
      ]
     },
     "execution_count": 1,
     "metadata": {},
     "output_type": "execute_result"
    }
   ],
   "source": [
    "name = \"Martin\"\n",
    "f\"My name is {name}\""
   ]
  },
  {
   "cell_type": "code",
   "execution_count": 2,
   "id": "7118cae2",
   "metadata": {},
   "outputs": [
    {
     "data": {
      "text/plain": [
       "'My name is Martin'"
      ]
     },
     "execution_count": 2,
     "metadata": {},
     "output_type": "execute_result"
    }
   ],
   "source": [
    "name = \"Martin\"\n",
    "\"My name is %s\" % name"
   ]
  },
  {
   "cell_type": "markdown",
   "id": "f4b2ec3f",
   "metadata": {},
   "source": [
    "在上面的例子中我们分别用两种方式实现了同样功能的字符串输出。\n",
    "\n",
    "看一眼 f-strings 就知道这个字符串是要输出名字（当然这要求你用的是有意义的变量，比如这里用的是 `name`）。而如果用旧的 `%` 字符串格式化字符串，则稍微显得不那么自然，**我们首先会看到 `%s` 占位符，此时我们需要向右看才知道这里会放置什么变量**。\n",
    "\n",
    "这里的例子不长所以没啥差别，但是如果用 `%` 格式化的字符串很长的话，看代码就会有割裂感，你的眼睛需要来回左右移动。而且这不仅仅是阅读代码上不大自然，如果是自己写很长的字符串，还得核对一遍占位符和变量的顺序是否一致，这无疑是一个负担。😫"
   ]
  },
  {
   "cell_type": "markdown",
   "id": "d91eadfd",
   "metadata": {},
   "source": [
    "## 语法规则"
   ]
  },
  {
   "cell_type": "markdown",
   "id": "5c8d1fca",
   "metadata": {},
   "source": [
    "f-strings 的语法规则很简单，下面我借用[^1]里面的定义：\n",
    "\n",
    "`f'<text>{<expression><optional !s, !r, or !a> <optional:format_specifier> }<text>...'`\n",
    "\n",
    "整体上来看可以将其归纳为 `f\"...\"` 或者 `f'...'` 这种形式。\n",
    "\n",
    "像普通的字符串那样，我们可以选择用单引号 `''` 或者双引号 `\"\"` 将字符串的内容括起来，当然 `\"\"\"...\"\"\"` 这种三个引号的也是 OK 的\n",
    "\n",
    "\n",
    "至于其他部分，我们分成几个小节进行讲解："
   ]
  },
  {
   "cell_type": "markdown",
   "id": "98e08cfe",
   "metadata": {},
   "source": [
    "### `<text>`\n",
    "放置字符串字面值，最简单的使用场景是不带任何表达式的字符串，此时 f-strings 就退化成了普通字符串。*比如 `f\"Hello world\"`*。~~当然这完全没有必要用 f-strings~~"
   ]
  },
  {
   "cell_type": "markdown",
   "id": "1d75b9ad",
   "metadata": {},
   "source": [
    "### `{<expression>}` \n",
    "我们先考虑最简单的情况： 不包含任何可选部分（即上面语法中的 `<option...>` ）的 `{expression}`\n",
    "\n",
    "上面其实已经指明了如何在 f-strings 里面嵌入表达式：只要将其放在 `{}` 里面即可。*下面是一个简单的例子*"
   ]
  },
  {
   "cell_type": "code",
   "execution_count": 3,
   "id": "f3d72dc5",
   "metadata": {},
   "outputs": [
    {
     "data": {
      "text/plain": [
       "'3 + 5 = 8'"
      ]
     },
     "execution_count": 3,
     "metadata": {},
     "output_type": "execute_result"
    }
   ],
   "source": [
    "left, right = 3, 5\n",
    "f\"{left} + {right} = {left + right}\""
   ]
  },
  {
   "cell_type": "markdown",
   "id": "77cb221a",
   "metadata": {},
   "source": [
    "用 `{}` 来充当占位符就很自然引申出一个问题——如果要在字符串里面输出 `{}` 这两个字符怎么办？\n",
    "\n",
    "答案也很简单，我们只要用 `{{expression}}` 这种格式即可"
   ]
  },
  {
   "cell_type": "code",
   "execution_count": 4,
   "id": "0450bf23",
   "metadata": {},
   "outputs": [
    {
     "data": {
      "text/plain": [
       "\"{'hello'}\""
      ]
     },
     "execution_count": 4,
     "metadata": {},
     "output_type": "execute_result"
    }
   ],
   "source": [
    "# 'hello' is an expression too. \n",
    "# Note that we need to use different quote syntax inside {}\n",
    "f\"{{'hello'}}\"   "
   ]
  },
  {
   "cell_type": "markdown",
   "id": "2c9b1263",
   "metadata": {},
   "source": [
    "值得一提的还有，**`expression` 里面不允许出现 `:` 和 `!` 和 `\\`**\n",
    "\n",
    "实际上 `expression` 里面也很少会包含这几个字符。`\\` 的一个使用场景是用来转义 `'` 或者 `\"`，但其实只要我们内外用的是不同的引号格式即可。至于 `:`，在 PEP[^1] 里面举例可能应用场景是 lambda 表达式，此时我们只需用一对括号将 lambda 表达式括起来即可："
   ]
  },
  {
   "cell_type": "code",
   "execution_count": 5,
   "id": "eb105907",
   "metadata": {},
   "outputs": [
    {
     "data": {
      "text/plain": [
       "'4'"
      ]
     },
     "execution_count": 5,
     "metadata": {},
     "output_type": "execute_result"
    }
   ],
   "source": [
    "# note that we need to add () around the lambda expression\n",
    "f\"{(lambda x: x + 1)(3)}\" "
   ]
  },
  {
   "cell_type": "markdown",
   "id": "6bdad5c7",
   "metadata": {},
   "source": [
    "### `<option...>`"
   ]
  },
  {
   "cell_type": "markdown",
   "id": "db32c9fe",
   "metadata": {},
   "source": [
    "#### `<optional !s, !r, or !a>`\n",
    "\n",
    "这几个是用来对 `<expression>` 做**类型转换**的\n",
    "```python\n",
    "{foo:!s}     # it's equal to call str(foo) first\n",
    "{foo:!r}     # similarily, call repr(foo) first\n",
    "{foo:!a}     # similarily，call ascii(foo) first\n",
    "```\n",
    "\n",
    "这三个**了解即可，一般也不会怎么用到**，真要用的话还是**自己直接调用对应的函数会比较直观**，PEP 498[^1] 里面自己也说了这三个只是为了最小化和之前的 `str.format` 的差别"
   ]
  },
  {
   "cell_type": "markdown",
   "id": "7b727066",
   "metadata": {},
   "source": [
    "#### `<optional:format_specifier>`\n",
    "\n",
    "这一部分就是对前面 `expression` 的值进行“修饰”，*比如我们想要控制小数的精度，或者做字符串对齐等等*。下面我会简单讲讲其中几个部分。更为详细的完整支持选项可以参考[^2]\n",
    "\n",
    "> 注意这个部分的开头用的是 `:`（这也一定程度上解释了为什么 Python 不允许 `expression` 里面出现 `:`）\n",
    "\n",
    "可以先看看 `format_specifier` 的语法描述：\n",
    "\n",
    "`[[fill]align][sign][z][#][0][width][,][grouping_option][.precision][type]`\n",
    "\n",
    "> 在语法里面，`[]` 表示是可选项"
   ]
  },
  {
   "cell_type": "markdown",
   "id": "61671bab",
   "metadata": {},
   "source": [
    "##### `[[fill]align]`\n",
    "\n",
    "主要用来对字符串进行输出对齐，这里的 `fill` 可以是任意的字符（默认情况下是空格）用于填充剩下的部分\n",
    "\n",
    "> 注意：`[[fill]align]` 需要和 `width` 一起搭配使用，**没有指定输出宽度的情况下是没有用的**\n",
    "\n",
    "`align` 支持下面这几种对齐方式：\n",
    "```python\n",
    "<        # left-aligned \n",
    ">        # right-aligned\n",
    "^        # centered\n",
    "=        # only valid for numeric types, pad between sign and digits\n",
    "```"
   ]
  },
  {
   "cell_type": "code",
   "execution_count": 6,
   "id": "110239c0",
   "metadata": {},
   "outputs": [
    {
     "data": {
      "text/plain": [
       "'***-1****'"
      ]
     },
     "execution_count": 6,
     "metadata": {},
     "output_type": "execute_result"
    }
   ],
   "source": [
    "f\"{-1:*^9}\"  # set `fill` to *, and set width to 9"
   ]
  },
  {
   "cell_type": "code",
   "execution_count": 7,
   "id": "69f28b0e",
   "metadata": {},
   "outputs": [
    {
     "data": {
      "text/plain": [
       "'*******-1'"
      ]
     },
     "execution_count": 7,
     "metadata": {},
     "output_type": "execute_result"
    }
   ],
   "source": [
    "f\"{-1:*>9}\"  # set `fill` to *, and set width to 9"
   ]
  },
  {
   "cell_type": "code",
   "execution_count": 8,
   "id": "23c999d2",
   "metadata": {},
   "outputs": [
    {
     "data": {
      "text/plain": [
       "'-1*******'"
      ]
     },
     "execution_count": 8,
     "metadata": {},
     "output_type": "execute_result"
    }
   ],
   "source": [
    "f\"{-1:*<9}\"  # set `fill` to *, and set width to 9"
   ]
  },
  {
   "cell_type": "code",
   "execution_count": 9,
   "id": "c081a90b",
   "metadata": {},
   "outputs": [
    {
     "data": {
      "text/plain": [
       "'-*******1'"
      ]
     },
     "execution_count": 9,
     "metadata": {},
     "output_type": "execute_result"
    }
   ],
   "source": [
    "f\"{-1:*=9}\"  # set `fill` to *, and set width to 9"
   ]
  },
  {
   "cell_type": "markdown",
   "id": "8dab0949",
   "metadata": {},
   "source": [
    "##### `[sign]`\n",
    "\n",
    "用于控制数值类型的符号位显示，支持下面这几种\n",
    "\n",
    "```python\n",
    "+      # both positive and negative\n",
    "-      # only negative (default)\n",
    "space  # a leading spaces for positive and minus sign for negative\n",
    "```"
   ]
  },
  {
   "cell_type": "code",
   "execution_count": 10,
   "id": "70ad2eb8",
   "metadata": {},
   "outputs": [
    {
     "data": {
      "text/plain": [
       "'+1'"
      ]
     },
     "execution_count": 10,
     "metadata": {},
     "output_type": "execute_result"
    }
   ],
   "source": [
    "f\"{1:+}\""
   ]
  },
  {
   "cell_type": "code",
   "execution_count": 11,
   "id": "94675b39",
   "metadata": {},
   "outputs": [
    {
     "data": {
      "text/plain": [
       "'-1'"
      ]
     },
     "execution_count": 11,
     "metadata": {},
     "output_type": "execute_result"
    }
   ],
   "source": [
    "f\"{-1:+}\""
   ]
  },
  {
   "cell_type": "code",
   "execution_count": 12,
   "id": "e0adaee1",
   "metadata": {},
   "outputs": [],
   "source": [
    "assert f\"{1}\" == f\"{1:-}\"   # because it's the default behavior"
   ]
  },
  {
   "cell_type": "markdown",
   "id": "abff1ccb",
   "metadata": {},
   "source": [
    "##### `[z]`\n",
    "\n",
    "在 Python 3.11 里面，增加了可选的 `z` 用来处理 `-0.`。因为调查显示[^3]，大多数情况下我们都不想得到 `-0.0` 这样的输出"
   ]
  },
  {
   "cell_type": "code",
   "execution_count": 13,
   "id": "730dfeab",
   "metadata": {},
   "outputs": [
    {
     "data": {
      "text/plain": [
       "'-0.0'"
      ]
     },
     "execution_count": 13,
     "metadata": {},
     "output_type": "execute_result"
    }
   ],
   "source": [
    "x = -0.0001\n",
    "f\"{x:.1f}\"   # set the precision to 1, so it will round to -0.0"
   ]
  },
  {
   "cell_type": "code",
   "execution_count": 14,
   "id": "92f9ce5a",
   "metadata": {},
   "outputs": [
    {
     "data": {
      "text/plain": [
       "'0.0'"
      ]
     },
     "execution_count": 14,
     "metadata": {},
     "output_type": "execute_result"
    }
   ],
   "source": [
    "x = -0.0001\n",
    "f\"{x:z.1f}\"  # with z, we will get 0.0 rather than -0.0"
   ]
  },
  {
   "cell_type": "markdown",
   "id": "fd206bfb",
   "metadata": {},
   "source": [
    "##### `[#]` 和 `[type]`\n",
    "\n",
    "`[#]` 只对 integer、float 和 complex 类型有效\n",
    "- integer：会**根据你选择输出的进制增加相应的前缀**，*比如二进制就增加 `0b`*\n",
    "- float 和 complex：**总是输出小数点**，就算小数点之后没有数字\n",
    "\n",
    "如何用不同的进制显示？这就是 `[type]` 的工作：\n",
    "```python\n",
    "b        # base 2\n",
    "o        # base 8\n",
    "d        # base 10\n",
    "x        # base 16, low-case letters\n",
    "X        # base 16, upper-case letters\n",
    "```"
   ]
  },
  {
   "cell_type": "code",
   "execution_count": 15,
   "id": "df3f1639",
   "metadata": {},
   "outputs": [
    {
     "data": {
      "text/plain": [
       "'0b1111'"
      ]
     },
     "execution_count": 15,
     "metadata": {},
     "output_type": "execute_result"
    }
   ],
   "source": [
    "f\"{15:#b}\"     # represent 15 in base 2, use # to add prefix 0b"
   ]
  },
  {
   "cell_type": "code",
   "execution_count": 16,
   "id": "9b8b7ad2",
   "metadata": {},
   "outputs": [
    {
     "data": {
      "text/plain": [
       "'0XF'"
      ]
     },
     "execution_count": 16,
     "metadata": {},
     "output_type": "execute_result"
    }
   ],
   "source": [
    "f\"{15:#X}\"     # represent 15 in base 16, use # to add prefix 0X"
   ]
  },
  {
   "cell_type": "code",
   "execution_count": 17,
   "id": "5263259f",
   "metadata": {},
   "outputs": [
    {
     "data": {
      "text/plain": [
       "'3'"
      ]
     },
     "execution_count": 17,
     "metadata": {},
     "output_type": "execute_result"
    }
   ],
   "source": [
    "f\"{3:.0f}\""
   ]
  },
  {
   "cell_type": "code",
   "execution_count": 18,
   "id": "c97b2880",
   "metadata": {},
   "outputs": [
    {
     "data": {
      "text/plain": [
       "'3.'"
      ]
     },
     "execution_count": 18,
     "metadata": {},
     "output_type": "execute_result"
    }
   ],
   "source": [
    "f\"{3:#.0f}\"   "
   ]
  },
  {
   "cell_type": "markdown",
   "id": "e28aa40b",
   "metadata": {},
   "source": [
    "##### `[0][width]`\n",
    "\n",
    "width 是用来控制显示的最小长度，如果加上 `0`，那么就会在数值前面补 0"
   ]
  },
  {
   "cell_type": "code",
   "execution_count": 19,
   "id": "b410055f",
   "metadata": {},
   "outputs": [
    {
     "data": {
      "text/plain": [
       "'  123'"
      ]
     },
     "execution_count": 19,
     "metadata": {},
     "output_type": "execute_result"
    }
   ],
   "source": [
    "f\"{123:5}\"     # width 5"
   ]
  },
  {
   "cell_type": "code",
   "execution_count": 20,
   "id": "09ebdc33",
   "metadata": {},
   "outputs": [
    {
     "data": {
      "text/plain": [
       "'00123'"
      ]
     },
     "execution_count": 20,
     "metadata": {},
     "output_type": "execute_result"
    }
   ],
   "source": [
    "f\"{123:05}\"    # width 5 with leading 0"
   ]
  },
  {
   "cell_type": "code",
   "execution_count": 21,
   "id": "7d836509",
   "metadata": {},
   "outputs": [
    {
     "data": {
      "text/plain": [
       "'123.1'"
      ]
     },
     "execution_count": 21,
     "metadata": {},
     "output_type": "execute_result"
    }
   ],
   "source": [
    "f\"{123.1:5}\"   # Note: the width includes the decimal point char"
   ]
  },
  {
   "cell_type": "markdown",
   "id": "0c7df731",
   "metadata": {},
   "source": [
    "##### `[grouping_option]`\n",
    "\n",
    "指定**千分位分隔符**，有两种选项[^4][^5]：\n",
    "- `_`\n",
    "- `,`\n",
    "\n",
    "在数字很大的时候，这两个千分位分隔符都会让可读性大大增强！"
   ]
  },
  {
   "cell_type": "code",
   "execution_count": 22,
   "id": "1405ceee",
   "metadata": {},
   "outputs": [
    {
     "data": {
      "text/plain": [
       "'123,456,789'"
      ]
     },
     "execution_count": 22,
     "metadata": {},
     "output_type": "execute_result"
    }
   ],
   "source": [
    "f\"{123456789:,}\""
   ]
  },
  {
   "cell_type": "code",
   "execution_count": 23,
   "id": "ae237cfc",
   "metadata": {},
   "outputs": [
    {
     "data": {
      "text/plain": [
       "'1,234.56789'"
      ]
     },
     "execution_count": 23,
     "metadata": {},
     "output_type": "execute_result"
    }
   ],
   "source": [
    "f\"{1234.56789:,}\""
   ]
  },
  {
   "cell_type": "code",
   "execution_count": 24,
   "id": "b54d23c0",
   "metadata": {},
   "outputs": [
    {
     "data": {
      "text/plain": [
       "'123_456_789'"
      ]
     },
     "execution_count": 24,
     "metadata": {},
     "output_type": "execute_result"
    }
   ],
   "source": [
    "f\"{123456789:_}\""
   ]
  },
  {
   "cell_type": "code",
   "execution_count": 25,
   "id": "04b21ae5",
   "metadata": {},
   "outputs": [
    {
     "data": {
      "text/plain": [
       "'1_234.56789'"
      ]
     },
     "execution_count": 25,
     "metadata": {},
     "output_type": "execute_result"
    }
   ],
   "source": [
    "f\"{1234.56789:_}\""
   ]
  },
  {
   "cell_type": "markdown",
   "id": "07f67f45",
   "metadata": {},
   "source": [
    "##### `[.precision]`\n",
    "\n",
    "指定小数点之后要保留几位，会自动舍入"
   ]
  },
  {
   "cell_type": "code",
   "execution_count": 26,
   "id": "7c7ac062",
   "metadata": {},
   "outputs": [
    {
     "data": {
      "text/plain": [
       "'123.46'"
      ]
     },
     "execution_count": 26,
     "metadata": {},
     "output_type": "execute_result"
    }
   ],
   "source": [
    "f\"{123.456:.2f}\""
   ]
  },
  {
   "cell_type": "markdown",
   "id": "dbaaddba",
   "metadata": {},
   "source": [
    "## 总结\n",
    "\n",
    "在我刚开始学习 Python 的时候，当时的教程都是在用 `%` 来格式化输出，后来的推荐是 `str.format` 方法。而到了 f-string 随着 Python 3.6 发布之后，似乎统一了字符串输出的 Best practice，大家都在用这个。这也是符合 Python 设计哲学的——应该只有一种显而易见的方式做到一件事🚀"
   ]
  },
  {
   "cell_type": "markdown",
   "id": "d1dcbe02",
   "metadata": {},
   "source": [
    "## 参考\n",
    "\n",
    "[^1]: [PEP 498. Literal String Interpolation](https://peps.python.org/pep-0498/)\n",
    "\n",
    "[^2]: [Format Specifications](https://docs.python.org/3/library/string.html#format-specification-mini-language)\n",
    "\n",
    "[^3]: [PEP 682. Format Specifier for Signed Zero](https://peps.python.org/pep-0682/)\n",
    "\n",
    "[^4]: [PEP 378. Format Specifier for Thousands Separator](https://peps.python.org/pep-0378/)\n",
    "\n",
    "[^5]: [PEP 515. Underscores in Numeric Literals](https://peps.python.org/pep-0515/)"
   ]
  }
 ],
 "metadata": {
  "kernelspec": {
   "display_name": "Python 3 (ipykernel)",
   "language": "python",
   "name": "python3"
  },
  "language_info": {
   "codemirror_mode": {
    "name": "ipython",
    "version": 3
   },
   "file_extension": ".py",
   "mimetype": "text/x-python",
   "name": "python",
   "nbconvert_exporter": "python",
   "pygments_lexer": "ipython3",
   "version": "3.11.0"
  }
 },
 "nbformat": 4,
 "nbformat_minor": 5
}
