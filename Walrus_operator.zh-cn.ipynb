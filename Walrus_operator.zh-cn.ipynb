{
 "cells": [
  {
   "cell_type": "markdown",
   "id": "2a9739cc",
   "metadata": {},
   "source": [
    "## 引言\n",
    "\n",
    "今天要说的是在 Python3.8 中引入的新特性：海象运算符（Walrus operator），这是一个备受争议的特性，但它最后还是通过并发布了🤔\n",
    "\n",
    "在 Python 中，赋值语句（`=`）并不是 expression 而是 statement。海象表达式则是 expression。关于 statement 和 expression 的区别可以简单理解为：expression 总是会返回值，而 statement 不返回值。\n",
    "\n",
    "两者的区别可以看下面的代码："
   ]
  },
  {
   "cell_type": "code",
   "execution_count": 1,
   "id": "67839ab9",
   "metadata": {},
   "outputs": [],
   "source": [
    "# `=` is a statement, so it will print no value\n",
    "x = 5   "
   ]
  },
  {
   "cell_type": "code",
   "execution_count": 2,
   "id": "32111a21",
   "metadata": {},
   "outputs": [
    {
     "data": {
      "text/plain": [
       "5"
      ]
     },
     "execution_count": 2,
     "metadata": {},
     "output_type": "execute_result"
    }
   ],
   "source": [
    "# `:=` is an expression, so it will evaluate to a value\n",
    "# not recommended :)\n",
    "(x := 5) "
   ]
  },
  {
   "cell_type": "markdown",
   "id": "bbbde89f",
   "metadata": {},
   "source": [
    "> 📒 这里海象表达式需要加上 `()` 是为了避免造成混淆。毕竟在 [Python设计哲学-Zen](https://peps.python.org/pep-0020/) 里面提到了一条：\"There should be one-- and preferably only one --obvious way to do it.\"。如果不加 `()` 就能使用的话，开发者就会陷入到该用哪一个的困惑之中🤕️"
   ]
  },
  {
   "cell_type": "markdown",
   "id": "d172341a",
   "metadata": {},
   "source": [
    "在 C/C++ 中，`=` 是 expression。如果你有相关的编程背景的话，你可能对下面的代码不陌生\n",
    "\n",
    "```c\n",
    "// = will store the value in the LHS(left-hand-side) variable.\n",
    "// , and it has the value of the LHS\n",
    "// so we store the result of `foo` function call to `a`\n",
    "// , then we check if `a` > 0\n",
    "while ( (a = foo(...)) > 0 ) {\n",
    "    ...\n",
    "}\n",
    "```\n",
    "\n",
    "但是在 Python 3.8 之前是无法做到类似的事情的，因为 `=` 在 Python 里面是一个 statement，并不会返回值。这就是海象表达式发挥作用的地方 🤩"
   ]
  },
  {
   "cell_type": "markdown",
   "id": "fc0f61bb",
   "metadata": {},
   "source": [
    "## 语法规则\n",
    "\n",
    "- 海象表达式的语法很简单：`NAME := EXPRESSION`。`:=` 左边放变量名，右边则是表达式。表达式的值会被绑定到 `NAME` 上。\n",
    "    - 这里的 `NAME` 不能是属性或者索引"
   ]
  },
  {
   "cell_type": "code",
   "execution_count": 3,
   "id": "2b838f6d",
   "metadata": {},
   "outputs": [
    {
     "name": "stdout",
     "output_type": "stream",
     "text": [
      "res is 6\n"
     ]
    }
   ],
   "source": [
    "# a dummy example. we bind `1 + 2 + 3` to `res` for future usage\n",
    "if (res := 1 + 2 + 3) > 5:\n",
    "    print(f\"res is {res}\")"
   ]
  },
  {
   "cell_type": "code",
   "execution_count": 4,
   "id": "ac089c44",
   "metadata": {},
   "outputs": [
    {
     "ename": "SyntaxError",
     "evalue": "cannot use assignment expressions with attribute (1863382786.py, line 6)",
     "output_type": "error",
     "traceback": [
      "\u001b[0;36m  Input \u001b[0;32mIn [4]\u001b[0;36m\u001b[0m\n\u001b[0;31m    (some_foo.val := 1)\u001b[0m\n\u001b[0m     ^\u001b[0m\n\u001b[0;31mSyntaxError\u001b[0m\u001b[0;31m:\u001b[0m cannot use assignment expressions with attribute\n"
     ]
    }
   ],
   "source": [
    "class foo:\n",
    "    val: int = 0\n",
    "\n",
    "some_foo = foo()\n",
    "\n",
    "(some_foo.val := 1)"
   ]
  },
  {
   "cell_type": "code",
   "execution_count": 5,
   "id": "aa52b2a5",
   "metadata": {},
   "outputs": [
    {
     "ename": "SyntaxError",
     "evalue": "cannot use assignment expressions with subscript (152354199.py, line 3)",
     "output_type": "error",
     "traceback": [
      "\u001b[0;36m  Input \u001b[0;32mIn [5]\u001b[0;36m\u001b[0m\n\u001b[0;31m    (x[1] := 3)\u001b[0m\n\u001b[0m     ^\u001b[0m\n\u001b[0;31mSyntaxError\u001b[0m\u001b[0;31m:\u001b[0m cannot use assignment expressions with subscript\n"
     ]
    }
   ],
   "source": [
    "x = [1, 2, 3]\n",
    "\n",
    "(x[1] := 3)"
   ]
  },
  {
   "cell_type": "markdown",
   "id": "3023ba31",
   "metadata": {},
   "source": [
    "- 关于 `NAME` 的作用域\n",
    "    - 海象表达式不会引入新的作用域 🤩\n",
    "    - `NAME` 可以在当前的作用域使用，同时有个例外：如果是在 list/dict/set comprehension 里面使用。则是是在 enclosing scope 里面. 可以看下面的例子："
   ]
  },
  {
   "cell_type": "code",
   "execution_count": 6,
   "id": "93702bb0",
   "metadata": {},
   "outputs": [
    {
     "ename": "NameError",
     "evalue": "name 'item' is not defined",
     "output_type": "error",
     "traceback": [
      "\u001b[0;31m---------------------------------------------------------------------------\u001b[0m",
      "\u001b[0;31mNameError\u001b[0m                                 Traceback (most recent call last)",
      "Input \u001b[0;32mIn [6]\u001b[0m, in \u001b[0;36m<cell line: 7>\u001b[0;34m()\u001b[0m\n\u001b[1;32m      4\u001b[0m double_s \u001b[38;5;241m=\u001b[39m [item \u001b[38;5;241m*\u001b[39m \u001b[38;5;241m2\u001b[39m \u001b[38;5;28;01mfor\u001b[39;00m item \u001b[38;5;129;01min\u001b[39;00m s]\n\u001b[1;32m      6\u001b[0m \u001b[38;5;66;03m# `item` is not in the global scope :)\u001b[39;00m\n\u001b[0;32m----> 7\u001b[0m \u001b[38;5;28mprint\u001b[39m(\u001b[43mitem\u001b[49m)\n",
      "\u001b[0;31mNameError\u001b[0m: name 'item' is not defined"
     ]
    }
   ],
   "source": [
    "s = [1, 2, 3]\n",
    "# the list comprehension forms a new scope. \n",
    "# its enclosing scope is the global scope\n",
    "double_s = [item * 2 for item in s]\n",
    "\n",
    "# `item` is not in the global scope :)\n",
    "print(item)"
   ]
  },
  {
   "cell_type": "code",
   "execution_count": null,
   "id": "ef06c56a",
   "metadata": {},
   "outputs": [],
   "source": [
    "s = [1, 2, 3]\n",
    "# the list comprehension forms a new scope. \n",
    "# its enclosing scope is the global scope\n",
    "double_s = [last := item * 2 for item in s]\n",
    "\n",
    "# so we can use `last` variable here\n",
    "print(last)"
   ]
  },
  {
   "cell_type": "markdown",
   "id": "045e1053",
   "metadata": {},
   "source": [
    "- 优先级规则：除了比 `,` 高，比其他的都低"
   ]
  },
  {
   "cell_type": "code",
   "execution_count": 7,
   "id": "efeed76a",
   "metadata": {},
   "outputs": [
    {
     "data": {
      "text/plain": [
       "(1, 2)"
      ]
     },
     "execution_count": 7,
     "metadata": {},
     "output_type": "execute_result"
    }
   ],
   "source": [
    "x = 1, 2\n",
    "x"
   ]
  },
  {
   "cell_type": "code",
   "execution_count": 8,
   "id": "e446a6d0",
   "metadata": {},
   "outputs": [
    {
     "data": {
      "text/plain": [
       "1"
      ]
     },
     "execution_count": 8,
     "metadata": {},
     "output_type": "execute_result"
    }
   ],
   "source": [
    "(x := 1, 2)\n",
    "x"
   ]
  },
  {
   "cell_type": "markdown",
   "id": "416ce062",
   "metadata": {},
   "source": [
    "## 适用场景\n",
    "\n",
    "> 📒 结合参考了[^1]的内容和平常的编程经验。感觉海象表达式最方便的还是：处理返回值可能为 `None` 的函数\n",
    "\n",
    "对于返回值可能为 `None` 的函数，以前经常是**先用 `=` 赋值语句保存函数的返回结果**。不为 `None` 的时候要使用返回值来进行下一步处理。此时代码看起来大概是这样：\n",
    "```python\n",
    "some_thing = foo(....)\n",
    "if some_thing:\n",
    "    ...\n",
    "else:\n",
    "    ...\n",
    "```\n",
    "\n",
    "*下面用 `re` 库举例子*"
   ]
  },
  {
   "cell_type": "code",
   "execution_count": 9,
   "id": "e98e1483",
   "metadata": {},
   "outputs": [
    {
     "name": "stdout",
     "output_type": "stream",
     "text": [
      "Find match: 10\n"
     ]
    }
   ],
   "source": [
    "import re\n",
    "\n",
    "# define a regex pattern to extract digits in a string\n",
    "DIGIT_PATTERN = r'\\d+'  \n",
    "\n",
    "text = 'There are 10 dogs'\n",
    "\n",
    "# re.search will return None if no match was found.\n",
    "match = re.search(DIGIT_PATTERN, text)\n",
    "if match:\n",
    "    # group(0) will return the entire match\n",
    "    print(f\"Find match: {match.group(0)}\")   \n",
    "else:\n",
    "    print(\"Not match was found\")"
   ]
  },
  {
   "cell_type": "markdown",
   "id": "f6d8e725",
   "metadata": {},
   "source": [
    "为了能在后面使用 `match.group()` 的时候 Python 解释器不会返回 `AttributeError: 'NoneType' object has no attribute 'group'` 错误，我们不得不用一个中间变量 `match` 暂时保存 `re.search` 的返回值对其进行检查，显得似乎有点冗余。我们无法直接将他们连起来：`re.search(DIGIT_PATTERN, text).group(0)`\n",
    "\n",
    "> 📒 插点题外话：在 Rust 里面，可能返回 `None` 的返回类型是 `Option<T>`。我们可以使用 `?` 来处理这种情况，它会尝试提取里面的值，如果失败了就会尽早终止报错。所以在 Rust 里面，我们可以这样（假设 Rust 也有类似的 API）：`re.search(DIGIT_PATTERN, text)?.group(0)` 🍺\n",
    "\n",
    "另外一点是：可读性稍弱，当然这是个人的主观感受。有一点不舒服是：只有可能在 `match is not None` 的时候我们才会使用 `match` 变量，我们不会在 `else` 分支里面使用。但是如果很快地从上往下看代码的话，单独另起一行的 `match = ...` 就像是后面都可以使用一样🤣\n",
    "\n",
    "此时我们**可以选择用 `:=` 来绑定其返回值**"
   ]
  },
  {
   "cell_type": "code",
   "execution_count": 10,
   "id": "d65da0ab",
   "metadata": {},
   "outputs": [
    {
     "name": "stdout",
     "output_type": "stream",
     "text": [
      "Find match: 10\n"
     ]
    }
   ],
   "source": [
    "if match := re.search(DIGIT_PATTERN, text):\n",
    "    # group(0) will return the entire match\n",
    "    print(f\"Find match: {match.group(0)}\")   \n",
    "else:\n",
    "    print(\"Not match was found\")"
   ]
  },
  {
   "cell_type": "markdown",
   "id": "105ec26c",
   "metadata": {},
   "source": [
    "[^1] 里面提到支持 `:=` 的一个理由是：调查显示，开发者往往喜欢写比较少行的代码而不是让代码更短。这里我们就少写了一行代码。同时看一眼就知道 `match` 的作用域👏\n",
    "\n",
    "\n",
    "类似的，在 `while` 循环中我们也可以借用这个特性\n",
    "\n",
    "```python\n",
    "val = foo(...)\n",
    "while val:\n",
    "    # do something while val is not None\n",
    "    val = foo(...)\n",
    "```"
   ]
  },
  {
   "cell_type": "markdown",
   "id": "fb71d613",
   "metadata": {},
   "source": [
    "## 🆚 `=`\n",
    "\n",
    "几个值得一提的不同：\n",
    "1. `=` 是 statement，`:=` 是 expression。这也决定了他们的适用场景是不同的\n",
    "2. 只有 `=` 支持`foo = bar = 1` 这种连续使用的情况；而且 `=` 左边可以是 `foo.bar` 这种属性，或者是 `foo[1]` 这种索引的形式，但是 `:=` 左边只能是一个简单的变量名\n",
    "3. `=` 支持 `+=` 这种 augmented 的形式，但是 `:=` 不行"
   ]
  },
  {
   "cell_type": "markdown",
   "id": "22ba418b",
   "metadata": {},
   "source": [
    "## 总结\n",
    "\n",
    "在我看来，海象表达式在我前面提到的引用场景中是挺有用的（推荐使用👍），可读性提高不少🚀。但是[^1]中的某些例子我觉得可能是负优化了👀"
   ]
  },
  {
   "cell_type": "markdown",
   "id": "c021e055",
   "metadata": {},
   "source": [
    "## 参考\n",
    "\n",
    "[^1] [PEP 572. Assignment Expressions]"
   ]
  }
 ],
 "metadata": {
  "kernelspec": {
   "display_name": "Python 3 (ipykernel)",
   "language": "python",
   "name": "python3"
  },
  "language_info": {
   "codemirror_mode": {
    "name": "ipython",
    "version": 3
   },
   "file_extension": ".py",
   "mimetype": "text/x-python",
   "name": "python",
   "nbconvert_exporter": "python",
   "pygments_lexer": "ipython3",
   "version": "3.10.6"
  }
 },
 "nbformat": 4,
 "nbformat_minor": 5
}
