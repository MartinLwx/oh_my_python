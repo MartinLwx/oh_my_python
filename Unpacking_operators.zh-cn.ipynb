{
 "cells": [
  {
   "cell_type": "markdown",
   "id": "b91976d0",
   "metadata": {},
   "source": [
    "## 引言\n",
    "今天我想要聊聊 Python 中用于解包（Unpacking）的两个操作符号——`*` 和 `**`"
   ]
  },
  {
   "cell_type": "markdown",
   "id": "02d14d57",
   "metadata": {},
   "source": [
    "## 基本用法\n",
    "\n",
    "`*` 最为常见的用法是用来表示乘法。但我们也可以将 `*` 用于任意一个可迭代对象（iterable object）[^1]上，表示我们想要提取里面所有的值\n",
    "\n",
    "> 📒 Python 自带的可迭代对象包括：`list`, `tuple`, `set`, 和 `dict`"
   ]
  },
  {
   "cell_type": "markdown",
   "id": "3c9f17b8",
   "metadata": {},
   "source": [
    "### Starred assignment/expression\n",
    "\n",
    "随着 Python 3.0 的发布，Python 支持使用 `*` 来解包任意可迭代对象[^3]。这个被称之为 Starred assignment，也叫做 Starred expressions。我也有看到称之为 parallel assignment 的。\n",
    "\n",
    "我们可以在 `=` 左边声明一个特殊的变量表示捕获*所有变量**。看下面这个直观的例子：\n",
    "\n",
    "```python\n",
    ">>> first, *rest, last = [1, 2, 3, 4, 5]\n",
    ">>> first\n",
    "1\n",
    ">>> rest\n",
    "[2, 3, 4]\n",
    ">>> last \n",
    "5\n",
    "```\n",
    "\n",
    "> 📒 语法很简单：一个星号后面紧跟着变量名 - `*foo`。我们可以在 `=` 左边任意位置放置它，但是**只能最多使用一次这样的变量**。以及，`foo` 的类型为 `list`"
   ]
  },
  {
   "cell_type": "markdown",
   "id": "780677b7",
   "metadata": {},
   "source": [
    "在我看来，Python 的这个特性很大程度上提高了代码的可读性\n",
    "\n",
    "不过它也有一些局限：\n",
    "- 我们不能仅仅在 `=` 左边使用一个 `*foo` 当成唯一的被赋值目标。`=` 左侧必须是一个 list 或者是 tuple\n",
    "- 如果 `=` 右边的值不够用于解包的话，程序就会报错\n",
    "\n",
    "下面的例子证明了这两点："
   ]
  },
  {
   "cell_type": "code",
   "execution_count": 1,
   "id": "1ba0308c",
   "metadata": {},
   "outputs": [
    {
     "ename": "SyntaxError",
     "evalue": "starred assignment target must be in a list or tuple (3773300134.py, line 1)",
     "output_type": "error",
     "traceback": [
      "\u001b[0;36m  Cell \u001b[0;32mIn [1], line 1\u001b[0;36m\u001b[0m\n\u001b[0;31m    *first = [1, 2, 3]\u001b[0m\n\u001b[0m    ^\u001b[0m\n\u001b[0;31mSyntaxError\u001b[0m\u001b[0;31m:\u001b[0m starred assignment target must be in a list or tuple\n"
     ]
    }
   ],
   "source": [
    "*first = [1, 2, 3]"
   ]
  },
  {
   "cell_type": "code",
   "execution_count": 2,
   "id": "7df8a4ac",
   "metadata": {},
   "outputs": [
    {
     "data": {
      "text/plain": [
       "[1, 2, 3]"
      ]
     },
     "execution_count": 2,
     "metadata": {},
     "output_type": "execute_result"
    }
   ],
   "source": [
    "# just add `,` would be fine\n",
    "# now the LHS is a tuple\n",
    "*first, = [1, 2, 3]       \n",
    "first"
   ]
  },
  {
   "cell_type": "code",
   "execution_count": 3,
   "id": "a1a94b76",
   "metadata": {},
   "outputs": [
    {
     "ename": "ValueError",
     "evalue": "not enough values to unpack (expected at least 2, got 1)",
     "output_type": "error",
     "traceback": [
      "\u001b[0;31m---------------------------------------------------------------------------\u001b[0m",
      "\u001b[0;31mValueError\u001b[0m                                Traceback (most recent call last)",
      "Cell \u001b[0;32mIn [3], line 1\u001b[0m\n\u001b[0;32m----> 1\u001b[0m first, second, \u001b[38;5;241m*\u001b[39mrest \u001b[38;5;241m=\u001b[39m [\u001b[38;5;241m1\u001b[39m]\n",
      "\u001b[0;31mValueError\u001b[0m: not enough values to unpack (expected at least 2, got 1)"
     ]
    }
   ],
   "source": [
    "first, second, *rest = [1]"
   ]
  },
  {
   "cell_type": "markdown",
   "id": "225db077",
   "metadata": {},
   "source": [
    "> 📒 常见的一个做法是将 `*` 和 `_` 结合在一起使用（也就是 `*_`），表示我们不关心它捕获的变量"
   ]
  },
  {
   "cell_type": "code",
   "execution_count": null,
   "id": "f116ca38",
   "metadata": {},
   "outputs": [],
   "source": [
    "first, *_ = [1, 2, 3]\n",
    "first"
   ]
  },
  {
   "cell_type": "markdown",
   "id": "7c402b1f",
   "metadata": {},
   "source": [
    "### 更进一步\n",
    "\n",
    "从 Python 3.5 开始，我们可以在更多的情况下使用 `*` 和 `**`[^2]\n",
    "\n",
    "**情况1⃣️**：在函数调用里面，我们想要使用几次就可以使用几次"
   ]
  },
  {
   "cell_type": "code",
   "execution_count": null,
   "id": "b9cd73e9",
   "metadata": {},
   "outputs": [],
   "source": [
    "foo, bar = {'a': 1, 'b': 2}, {'c': 3, 'd': 4}\n",
    "dict(**foo, **bar) # dict is a function"
   ]
  },
  {
   "cell_type": "markdown",
   "id": "d9943087",
   "metadata": {},
   "source": [
    "> 📒`dict` 中的 keys 的优先级是右边大于左边。换句话说，后面出现的 key 的值总是会覆盖前面出现的。*看下面这个例子*"
   ]
  },
  {
   "cell_type": "code",
   "execution_count": 4,
   "id": "a4820708",
   "metadata": {},
   "outputs": [
    {
     "data": {
      "text/plain": [
       "{'a': 3, 'b': 2}"
      ]
     },
     "execution_count": 4,
     "metadata": {},
     "output_type": "execute_result"
    }
   ],
   "source": [
    "{**{'a': 1, 'b': 2}, **{'a': 3}}"
   ]
  },
  {
   "cell_type": "markdown",
   "id": "236a9a65",
   "metadata": {},
   "source": [
    "> 📒当我们在函数调用里面使用 `**` 的时候，需要注意个问题：我们**需要确保没有重复的 key**"
   ]
  },
  {
   "cell_type": "code",
   "execution_count": 5,
   "id": "2d5b9ae3",
   "metadata": {},
   "outputs": [
    {
     "ename": "TypeError",
     "evalue": "dict() got multiple values for keyword argument 'a'",
     "output_type": "error",
     "traceback": [
      "\u001b[0;31m---------------------------------------------------------------------------\u001b[0m",
      "\u001b[0;31mTypeError\u001b[0m                                 Traceback (most recent call last)",
      "Cell \u001b[0;32mIn [5], line 1\u001b[0m\n\u001b[0;32m----> 1\u001b[0m \u001b[38;5;28mdict\u001b[39m(\u001b[38;5;241m*\u001b[39m\u001b[38;5;241m*\u001b[39m{\u001b[38;5;124m'\u001b[39m\u001b[38;5;124ma\u001b[39m\u001b[38;5;124m'\u001b[39m: \u001b[38;5;241m1\u001b[39m, \u001b[38;5;124m'\u001b[39m\u001b[38;5;124mb\u001b[39m\u001b[38;5;124m'\u001b[39m: \u001b[38;5;241m2\u001b[39m}, \u001b[38;5;241m*\u001b[39m\u001b[38;5;241m*\u001b[39m{\u001b[38;5;124m'\u001b[39m\u001b[38;5;124ma\u001b[39m\u001b[38;5;124m'\u001b[39m: \u001b[38;5;241m3\u001b[39m})\n",
      "\u001b[0;31mTypeError\u001b[0m: dict() got multiple values for keyword argument 'a'"
     ]
    }
   ],
   "source": [
    "dict(**{'a': 1, 'b': 2}, **{'a': 3})"
   ]
  },
  {
   "cell_type": "markdown",
   "id": "e3cccc6d",
   "metadata": {},
   "source": [
    "**情况2⃣️**：我们可以在 tuple/list/set/dict **字面值**中使用。但是不能在 list/set/dict comprehensions 里面使用😺"
   ]
  },
  {
   "cell_type": "code",
   "execution_count": 6,
   "id": "536eefe7",
   "metadata": {},
   "outputs": [
    {
     "data": {
      "text/plain": [
       "{'x': 1, 'y': 2}"
      ]
     },
     "execution_count": 6,
     "metadata": {},
     "output_type": "execute_result"
    }
   ],
   "source": [
    "# an example drawn from PEP 448\n",
    ">>> *range(4), 4\n",
    "(0, 1, 2, 3, 4)\n",
    ">>> [*range(4), 4]\n",
    "[0, 1, 2, 3, 4]\n",
    ">>> {*range(4), 4}\n",
    "{0, 1, 2, 3, 4}\n",
    ">>> {'x': 1, **{'y': 2}}\n",
    "{'x': 1, 'y': 2}"
   ]
  },
  {
   "cell_type": "code",
   "execution_count": 7,
   "id": "2b65454a",
   "metadata": {},
   "outputs": [
    {
     "ename": "SyntaxError",
     "evalue": "iterable unpacking cannot be used in comprehension (2669952830.py, line 5)",
     "output_type": "error",
     "traceback": [
      "\u001b[0;36m  Cell \u001b[0;32mIn [7], line 5\u001b[0;36m\u001b[0m\n\u001b[0;31m    [*sublist for sublist in matrix]\u001b[0m\n\u001b[0m     ^\u001b[0m\n\u001b[0;31mSyntaxError\u001b[0m\u001b[0;31m:\u001b[0m iterable unpacking cannot be used in comprehension\n"
     ]
    }
   ],
   "source": [
    "matrix = [\n",
    "    [1, 2, 3]\n",
    "    [4, 5, 6]\n",
    "]\n",
    "[*sublist for sublist in matrix]"
   ]
  },
  {
   "cell_type": "markdown",
   "id": "75adb83a",
   "metadata": {},
   "source": [
    "## 总结\n",
    "\n",
    "Python 的解包操作符让编程轻松很多。它提供了一种**直观的解构可迭代对象的手段**。在这个操作符的帮助下，我们可以避免一些愚蠢的索引错误🙅"
   ]
  },
  {
   "cell_type": "markdown",
   "id": "b7e48f77",
   "metadata": {},
   "source": [
    "## 参考\n",
    "\n",
    "[^1]: [Python iterators](https://www.w3schools.com/python/python_iterators.asp)\n",
    "\n",
    "[^2]: [PEP 448. Additional Unpacking Generalizations](https://peps.python.org/pep-0448/)\n",
    "\n",
    "[^3]: [PEP 3132. Extended Iterable Unpacking](https://peps.python.org/pep-3132/)"
   ]
  }
 ],
 "metadata": {
  "kernelspec": {
   "display_name": "Python 3 (ipykernel)",
   "language": "python",
   "name": "python3"
  },
  "language_info": {
   "codemirror_mode": {
    "name": "ipython",
    "version": 3
   },
   "file_extension": ".py",
   "mimetype": "text/x-python",
   "name": "python",
   "nbconvert_exporter": "python",
   "pygments_lexer": "ipython3",
   "version": "3.11.0"
  }
 },
 "nbformat": 4,
 "nbformat_minor": 5
}
