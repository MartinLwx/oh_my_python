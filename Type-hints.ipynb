{
 "cells": [
  {
   "cell_type": "markdown",
   "id": "16eafc4d",
   "metadata": {},
   "source": [
    "## Intro\n",
    "\n",
    "I was immediately drawn to Python when I first encountered it due to its dynamic language features. Python use the \"duck typing\" design, which means that the type of an object is not as important as its behavior. This feature allows for faster development and a reduction in burdensome type declarations. Additionally, the support of powerful third-party libraries solidifies Python as my preferred programming language.😺\n",
    "\n",
    "However, with the proposal of PEP 484[^2], Python decided to introduce type hints, which seem to be in line with statically typed languages. **It’s not true though, Python’s type hints are optional, and it has no runtime effect**. \n",
    "\n",
    "It seems that writing this blog post specifically to introduce Python's type hints is unnecessary, but I have found that using them in my code still provides **several benefits**:\n",
    "- Static type checker can check your code. *For example, [Mypy](https://github.com/python/mypy)*\n",
    "- The code completion in IDE will become more intelligent. It will also report a bug if we use the wrong APIs. **This is probably the biggest motivation for me to choose to write type hints**\n",
    "- Manage code complexity. **Type hints expose useful information about APIs**. As a developer, we can get a general idea by just looking at the signature of such an annotated function, without having to check the docstrings frequently."
   ]
  },
  {
   "cell_type": "code",
   "execution_count": 1,
   "id": "4b66983b",
   "metadata": {},
   "outputs": [
    {
     "name": "stdout",
     "output_type": "stream",
     "text": [
      "Python 3.11.0\r\n"
     ]
    }
   ],
   "source": [
    "! python --version"
   ]
  },
  {
   "cell_type": "markdown",
   "id": "0e613790",
   "metadata": {},
   "source": [
    "## Function annotations\n",
    "\n",
    "Shipped with Python 3.0, the syntax of type hints has been established[^1]:\n",
    "- Arguments: `name[: type] [ = default_val ]`, the `[]` means optional\n",
    "- Return type: the syntax is `-> return_type`\n",
    "- We can access the `__annotations__` attribute to get type hints informatios. It returns a dict with `{ParamName: ParamType}`. ==It's a bad practice to access this attribute directly. We can use the functions inside the `inspect` module(Python 3.10+) or the `typing` module(Python 3.5 ~ 3.9)==. See the following example:"
   ]
  },
  {
   "cell_type": "code",
   "execution_count": 2,
   "id": "16b210a9",
   "metadata": {},
   "outputs": [
    {
     "data": {
      "text/plain": [
       "{'a': float, 'b': float, 'return': float}"
      ]
     },
     "execution_count": 2,
     "metadata": {},
     "output_type": "execute_result"
    }
   ],
   "source": [
    "def maximum(a: float, b: float) -> float:\n",
    "    \"\"\" A simple function to return the maximum elements of two floats\"\"\"\n",
    "    return max(a, b)\n",
    "\n",
    "\n",
    "# >= Python 3.10, do this\n",
    "import inspect\n",
    "assert inspect.get_annotations(maximum) == maximum.__annotations__\n",
    "\n",
    "# Python 3.5 ~ 3.9\n",
    "import typing\n",
    "assert typing.get_type_hints(maximum) == maximum.__annotations__\n",
    "\n",
    "inspect.get_annotations(maximum)"
   ]
  },
  {
   "cell_type": "markdown",
   "id": "a8040eef",
   "metadata": {},
   "source": [
    "> 📒 It's important to reiterate that type hints in Python have no impact on the runtime of the program. This means that even if we violate the type hints, the program will still execute as normal. However, a static type checker like Mypy will throw warnings."
   ]
  },
  {
   "cell_type": "code",
   "execution_count": 3,
   "id": "ceac2236",
   "metadata": {},
   "outputs": [
    {
     "data": {
      "text/plain": [
       "'world'"
      ]
     },
     "execution_count": 3,
     "metadata": {},
     "output_type": "execute_result"
    }
   ],
   "source": [
    "# returns the maximum of two strings\n",
    "# , but we declared the arguments should be float!\n",
    "maximum('hello', 'world')     "
   ]
  },
  {
   "cell_type": "markdown",
   "id": "bcf974a2",
   "metadata": {},
   "source": [
    "## Variables annotations\n",
    "\n",
    "Prior to Python 3.6, the only way to annotate the type of a variable was to include this information in comments, such as `# type ...`[^2]. This is referred to as \"type comments.\" With the introduction of PEP 526, a new syntax for variable annotations was established, which is similar to the syntax used for annotating function arguments[^3]"
   ]
  },
  {
   "cell_type": "code",
   "execution_count": 4,
   "id": "f217a534",
   "metadata": {},
   "outputs": [
    {
     "data": {
      "text/plain": [
       "0"
      ]
     },
     "execution_count": 4,
     "metadata": {},
     "output_type": "execute_result"
    }
   ],
   "source": [
    "a: int        # undefined typed value\n",
    "a: int = 0    # typed value with default value\n",
    "a"
   ]
  },
  {
   "cell_type": "markdown",
   "id": "72575ce7",
   "metadata": {},
   "source": [
    "Similarly, we can access the module level `__annotations__` attributes to get type hints information."
   ]
  },
  {
   "cell_type": "code",
   "execution_count": 5,
   "id": "c2e59c43",
   "metadata": {},
   "outputs": [
    {
     "data": {
      "text/plain": [
       "{'a': int}"
      ]
     },
     "execution_count": 5,
     "metadata": {},
     "output_type": "execute_result"
    }
   ],
   "source": [
    "__annotations__"
   ]
  },
  {
   "cell_type": "markdown",
   "id": "e50b16d6",
   "metadata": {},
   "source": [
    "## Common usage"
   ]
  },
  {
   "cell_type": "markdown",
   "id": "1007dd08",
   "metadata": {},
   "source": [
    "### Simple built-in types\n",
    "\n",
    "The simple built-in types refer to `int`, `str` etc. They can also be types defined in third-party packages. *As an example, the arguments of the previously mentioned maximum function use float.*"
   ]
  },
  {
   "cell_type": "markdown",
   "id": "1dd3d1d4",
   "metadata": {},
   "source": [
    "### `Any` type\n",
    "\n",
    "**The `Any` type denotes that it can be any type**. But it's different from the `object` type[^2]\n",
    "\n",
    "We can think of an unannotated function that is *annotated* with the `Any` type.\n",
    "\n",
    "```python\n",
    "def foo(x):\n",
    "    ...\n",
    "\n",
    "# it assumes:\n",
    "def foo(x: Any) -> Any:\n",
    "    ...\n",
    "```"
   ]
  },
  {
   "cell_type": "markdown",
   "id": "7e3cd724",
   "metadata": {},
   "source": [
    "### Collections and Mappings\n",
    "\n",
    "We refer to each element inside a collection as an *item*. To add type hints for both the collection type and the item type, Python uses the `[]` notation. For example, to express a list of strings, we would write `list[str]`. This notation makes it clear that the list contains elements of the `str` type.\n",
    "\n",
    "Notes: After PEP 585(Python 3.9+)[^6], we can use the built-in `list`, `dict` etc instead of the counterparts in the `typing` module[^6].\n",
    "\n",
    "\n",
    "| < Python 3.9                        | >= Python 3.9                            |\n",
    "| ----------------------------------- | ---------------------------------------- |\n",
    "| `typing.Tuple`                      | `tuple`                                  |\n",
    "| `typing.Dict`                       | `dict`                                   |\n",
    "| `typing.List`                       | `list`                                   |\n",
    "| `typing.Set`                        | `set`                                    |\n",
    "| `typing.Frozenset`                  | `frozenset`                              |\n",
    "| `typing.Type`                       | `type`                                   |\n",
    "| `typing.AbstractSet`                | `collections.abc.Set`                    |\n",
    "| `typing.ContextManager`             | `contextlib.AbstractContextManager`      |\n",
    "| `typing.AsyncContextManager`        | `contextlib.AbstractAsyncContextManager` |\n",
    "| `typing.Pattern, typing.re.Pattern` | `re.Pattern`                             |\n",
    "| `typing.Match, typing.re.Match`     | `re.Match`                               |\n",
    "\n",
    "> 📒 **Some features of the `typing` module will be removed in the future, so I will use the latest syntax below✏️**"
   ]
  },
  {
   "cell_type": "code",
   "execution_count": 6,
   "id": "6b9c1934",
   "metadata": {},
   "outputs": [],
   "source": [
    "string_list: list[str] = ['hello', 'world']\n",
    "    \n",
    "# tuple[type1, type2, ..., typen] with fixed size\n",
    "date: tuple[int, int, int] = (2023, 1, 11)\n",
    "    \n",
    "string_count: dict[str, int] = {\n",
    "    'hello': 1,\n",
    "    'world': 2,\n",
    "}"
   ]
  },
  {
   "cell_type": "code",
   "execution_count": 7,
   "id": "3c287d95",
   "metadata": {},
   "outputs": [
    {
     "data": {
      "text/plain": [
       "{'a': int,\n",
       " 'string_list': list[str],\n",
       " 'date': tuple[int, int, int],\n",
       " 'string_count': dict[str, int]}"
      ]
     },
     "execution_count": 7,
     "metadata": {},
     "output_type": "execute_result"
    }
   ],
   "source": [
    "__annotations__"
   ]
  },
  {
   "cell_type": "markdown",
   "id": "5696464d",
   "metadata": {},
   "source": [
    "The `join_str_list` function accepts a list of strings and uses the whitespace to join them."
   ]
  },
  {
   "cell_type": "code",
   "execution_count": 8,
   "id": "779f97a2",
   "metadata": {},
   "outputs": [
    {
     "name": "stdout",
     "output_type": "stream",
     "text": [
      "hello world\n",
      "{'string_list': list[str], 'return': <class 'str'>}\n"
     ]
    }
   ],
   "source": [
    "def join_str_list(string_list: list[str]) -> str:\n",
    "    \"\"\" join all string in a list\"\"\"\n",
    "    return ' '.join(string_list)\n",
    "\n",
    "print(join_str_list(string_list))\n",
    "print(inspect.get_annotations(join_str_list))"
   ]
  },
  {
   "cell_type": "markdown",
   "id": "bbc09427",
   "metadata": {},
   "source": [
    "> 📒 In Python 3.9+, we can use `tuple[type1, ...]` to represent a tuple of any length whose types are all `type1`"
   ]
  },
  {
   "cell_type": "code",
   "execution_count": 9,
   "id": "5be91d75",
   "metadata": {},
   "outputs": [
    {
     "name": "stdout",
     "output_type": "stream",
     "text": [
      "6\n",
      "3\n"
     ]
    }
   ],
   "source": [
    "def sum_variable_integers(data: tuple[int, ...]):\n",
    "    \"\"\" Sum all integers of a tuple\"\"\"\n",
    "    sum_val = 0\n",
    "    for integer in data:\n",
    "        sum_val += integer\n",
    "    \n",
    "    return sum_val\n",
    "\n",
    "print(sum_variable_integers((1, 2, 3)))\n",
    "print(sum_variable_integers((3,)))"
   ]
  },
  {
   "cell_type": "markdown",
   "id": "c40cd1a4",
   "metadata": {},
   "source": [
    "As we know, we can put any type of variable in the `list`. How do we add type hints for such a list? The solution is `Any` type:\n",
    "```python\n",
    "list[Any]\n",
    "```\n",
    "\n",
    "We can just use `list`, which is less verbose.\n",
    "\n",
    "> 📒 If you want to know more collections types, please refer to [`collections.abc`](https://docs.python.org/3/library/collections.abc.html)"
   ]
  },
  {
   "cell_type": "markdown",
   "id": "d8f9c461",
   "metadata": {},
   "source": [
    "### Type alias\n",
    "\n",
    "Sometimes, the type will be so complicated that we don't want to write it everywhere. So what do we do? Well, we can give it an alias with a meaningful name. The syntax is simple:\n",
    "```python\n",
    "AliasName = Type\n",
    "```\n",
    "\n",
    "Take the previously defined `date` type as an example. A `date` is a `tuple` containing three `int` types. The type `list[tuple[int, int, int]` would denote a list of dates. To make the code more readable, it can be beneficial to give this type an alias, such as `Date`. See the following example:"
   ]
  },
  {
   "cell_type": "code",
   "execution_count": 10,
   "id": "f509ede7",
   "metadata": {},
   "outputs": [
    {
     "name": "stdout",
     "output_type": "stream",
     "text": [
      "2022-1-1\n",
      "2023-1-3\n",
      "{'l': list[tuple[int, int, int]]}\n"
     ]
    }
   ],
   "source": [
    "Date = tuple[int, int, int]\n",
    "DateList = list[Date]\n",
    "\n",
    "def print_date_list(l: DateList):\n",
    "    \"\"\" Print all dates in the format `year-month-day` in the date list\"\"\"\n",
    "    for year, month, day in l:\n",
    "        print(f'{year}-{month}-{day}')\n",
    "    \n",
    "print_date_list([(2022, 1, 1), (2023, 1, 3)])\n",
    "print(inspect.get_annotations(print_date_list))"
   ]
  },
  {
   "cell_type": "markdown",
   "id": "f0577b06",
   "metadata": {},
   "source": [
    "The syntax of type alias is quite similar to defining a global variable. To make it more explicit, PEP 163(Python 3.10+) proposes a better way[^7]:\n",
    "\n",
    "```python\n",
    "AliasName: TypeAlias = Type\n",
    "```"
   ]
  },
  {
   "cell_type": "code",
   "execution_count": 11,
   "id": "01659ee8",
   "metadata": {},
   "outputs": [],
   "source": [
    "from typing import TypeAlias\n",
    "\n",
    "Date: TypeAlias = tuple[int, int, int]"
   ]
  },
  {
   "cell_type": "markdown",
   "id": "74e06666",
   "metadata": {},
   "source": [
    "### Parameterized generic types\n",
    "\n",
    "In other programming languages, usually, they use an uppercase letter like `T` to denote a parameterized generic type. In python, we use `TypeVar` to do same thing. As the docs say:\n",
    "```python\n",
    "T = TypeVar('T')            # Can be anything\n",
    "S = TypeVar('S', bound=str) # Can be any subtype of str\n",
    "A = TypeVar('A', str, bytes)# Must be exactly str or bytes\n",
    "```\n",
    "\n",
    "To summarize, `TypeVar` provides two ways for us to restrict the generic types:\n",
    "\n",
    "1. use `bound=some_type`, then we can only pass the *subtype* of `some_type`.\n",
    "2. specify the allowed types directly\n",
    "\n",
    "\n",
    "> 📒 The definition of *subtype* is in PEP 483[^4]. In general: each type is its own subtype; In Object-oriented programming, the subclass is the subtype of its superclass"
   ]
  },
  {
   "cell_type": "code",
   "execution_count": 12,
   "id": "974e06c7",
   "metadata": {},
   "outputs": [],
   "source": [
    "from typing import TypeVar\n",
    "\n",
    "GenericString = TypeVar('GenericString', str, bytes)\n",
    "\n",
    "def process(s: GenericString):\n",
    "    \"\"\" The GenericString can be either str or bytes\"\"\"\n",
    "    ..."
   ]
  },
  {
   "cell_type": "markdown",
   "id": "e45e8a7a",
   "metadata": {},
   "source": [
    "> 📒 The `typing` module already provides us a `AnyStr` type to represent either `str` or `bytes`"
   ]
  },
  {
   "cell_type": "markdown",
   "id": "227b16a3",
   "metadata": {},
   "source": [
    "### Optional and Union\n",
    "\n",
    "`Optional[type1]` represents a type that can be either `type1` or `None`.\n",
    "\n",
    "The `Union[type1, type2, ...]` means that the allowed type is one of the types we specified, which is the logical *or* relationship. So we can know that the `Optional[type1]` is equal to `Union[type1, None]`."
   ]
  },
  {
   "cell_type": "code",
   "execution_count": 13,
   "id": "394085a9",
   "metadata": {},
   "outputs": [
    {
     "data": {
      "text/plain": [
       "{'s': typing.Union[str, int], 'return': typing.Optional[int]}"
      ]
     },
     "execution_count": 13,
     "metadata": {},
     "output_type": "execute_result"
    }
   ],
   "source": [
    "from typing import Optional, Union\n",
    "\n",
    "def parse(s: Union[str, int]) -> Optional[int]:\n",
    "    \"\"\" Parse `s` and get an integer value. The `s` may be a string.\n",
    "    Return None if fail\n",
    "    \"\"\"\n",
    "    if isinstance(s, str):\n",
    "        if not s.isdigit():\n",
    "            return None\n",
    "        else:\n",
    "            return int(s)\n",
    "    elif isinstance(s, int):\n",
    "        return s\n",
    "\n",
    "assert parse('foo') is None\n",
    "assert parse('123') == 123\n",
    "assert parse(123) == 123\n",
    "inspect.get_annotations(parse)"
   ]
  },
  {
   "cell_type": "markdown",
   "id": "eff701e6",
   "metadata": {},
   "source": [
    "In Python 3.10+, it introduces `|` to replace the `Union`. Some other programming languages also use `|`. *For example, Rust use `|` to seperate multiple possible patterns*. The `parse` function we defined earlier can be written in the following form: "
   ]
  },
  {
   "cell_type": "code",
   "execution_count": 14,
   "id": "dc35052e",
   "metadata": {},
   "outputs": [
    {
     "data": {
      "text/plain": [
       "{'s': str | int, 'return': int | None}"
      ]
     },
     "execution_count": 14,
     "metadata": {},
     "output_type": "execute_result"
    }
   ],
   "source": [
    "def parse(s: str | int) -> int | None:\n",
    "    \"\"\" Parse `s` and get an integer value. The `s` may be a string.\n",
    "    Return None if fail\n",
    "    \"\"\"\n",
    "    if isinstance(s, str):\n",
    "        if not s.isdigit():\n",
    "            return None\n",
    "        else:\n",
    "            return int(s)\n",
    "    elif isinstance(s, int):\n",
    "        return s\n",
    "\n",
    "inspect.get_annotations(parse)"
   ]
  },
  {
   "cell_type": "markdown",
   "id": "86fb9177",
   "metadata": {},
   "source": [
    "### Callables\n",
    "\n",
    "We use the function as an example of *callable*. In Python, a function is a first-class object, which means that it can be a parameter or a return value of another function. The type hints to support this:\n",
    "```python\n",
    "Callable[[ParamType1, ParamType2], ReturnType]\n",
    "```\n",
    "\n",
    "*Let's define a `apply` function which can apply a function on the data*"
   ]
  },
  {
   "cell_type": "code",
   "execution_count": 15,
   "id": "0fe9b9a2",
   "metadata": {},
   "outputs": [
    {
     "name": "stdout",
     "output_type": "stream",
     "text": [
      "None\n",
      "123\n"
     ]
    }
   ],
   "source": [
    "# from typing import Callable   # Python < 3.9\n",
    "from collections.abc import Callable\n",
    "\n",
    "def apply(f: Callable[[str | int], int | None], data: list):\n",
    "    \"\"\" Apply callable object on data. The `Callable[[str | int], int | None]` \n",
    "    is the type hints of `parse` we aforementioned\n",
    "    \"\"\"\n",
    "    for d in data:\n",
    "        print(f(d))\n",
    "\n",
    "apply(parse, ['hello', 123])"
   ]
  },
  {
   "cell_type": "markdown",
   "id": "af4aedaa",
   "metadata": {},
   "source": [
    "## Summary\n",
    "\n",
    "Well, that's the entire content of this blog. I have covered some of the most common and practical uses of type hints that I have found useful. However, it is not an exhaustive guide, and there are more advanced features such as static protocols[^8] that readers can explore.\n",
    "\n",
    "Personally, I follow the strategy of using type hints only when the added benefits outweigh the potential added complexity. **In situations where the type hints become too complex, I choose not to use them unless it is deemed necessary.**\n",
    "\n",
    "\n",
    "I will also give you some advice based on my experiences🎯:\n",
    "1. **When you decide what to add, try to think what this type it can do**[^8]. The static protocols[^8] are well suited to this requirement. This makes me think of the traits in Rust :) \n",
    "2. **Always make the return type as precise as possible**. Just try to imagine that a function returns `Union[str, int]`. We have to check it manually, which makes me fell like the type hints are a little unnecessary.\n",
    "3. **Even if you pass the type checker, you are not free of bugs**. Software testing is the standard practice to make your programs work as expected.\n",
    "4. Add the [cheatsheet](https://mypy.readthedocs.io/en/stable/cheat_sheet_py3.html) to your bookmark 👍"
   ]
  },
  {
   "cell_type": "markdown",
   "id": "1b89fac5",
   "metadata": {},
   "source": [
    "## Refs\n",
    "\n",
    "[^1]: [PEP 3107. Function Annotations](https://peps.python.org/pep-3107/)\n",
    "\n",
    "[^2]: [PEP 484. Type Hints](https://peps.python.org/pep-0484/)\n",
    "\n",
    "[^3]: [PEP 526. Syntax for Variable Annotations](https://peps.python.org/pep-0526/)\n",
    "\n",
    "[^4]: [PEP 483. The Theory of Type Hints](https://peps.python.org/pep-0483/)\n",
    "\n",
    "[^5]: [PEP 604. Allow writing union types as X | Y](https://peps.python.org/pep-0604/)\n",
    "\n",
    "[^6]: [PEP 585. Type Hinting Generics In Standard Collections](https://peps.python.org/pep-0585/)\n",
    "\n",
    "[^7]: [PEP 613. Explicit Type Aliases](https://peps.python.org/pep-0613/)\n",
    "\n",
    "[^8]: [PEP 544. Protocols: Structural subtyping (static duck typing)](https://peps.python.org/pep-0544/)"
   ]
  }
 ],
 "metadata": {
  "kernelspec": {
   "display_name": "Python 3 (ipykernel)",
   "language": "python",
   "name": "python3"
  },
  "language_info": {
   "codemirror_mode": {
    "name": "ipython",
    "version": 3
   },
   "file_extension": ".py",
   "mimetype": "text/x-python",
   "name": "python",
   "nbconvert_exporter": "python",
   "pygments_lexer": "ipython3",
   "version": "3.11.0"
  }
 },
 "nbformat": 4,
 "nbformat_minor": 5
}
