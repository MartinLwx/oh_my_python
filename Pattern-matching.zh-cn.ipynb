{
 "cells": [
  {
   "cell_type": "markdown",
   "id": "809266b9",
   "metadata": {},
   "source": [
    "## 引言"
   ]
  },
  {
   "cell_type": "markdown",
   "id": "e135536f",
   "metadata": {},
   "source": [
    "今天我想要谈一下 Python 3.10 提出的新特性[^1]——模式匹配🎉\n",
    "\n",
    "学习过 C 语言的人想必对下面的 `switch` 语句不陌生，\n",
    "\n",
    "```c\n",
    "switch (expression)\n",
    "{\n",
    "    case constant_1:\n",
    "      // statements\n",
    "      break;\n",
    "\n",
    "    case constant_2:\n",
    "      // statements\n",
    "      break;\n",
    "      \n",
    "    // Fall through\n",
    "    // the value of the expression can be either constant_3 or constant_4 :)\n",
    "    case constant_3:\n",
    "    case constant_4:\n",
    "      \n",
    "      // statements\n",
    "    \n",
    "    \n",
    "    default:\n",
    "      // default statements\n",
    "}\n",
    "```\n",
    "\n",
    "概括一下，C 语言的 `switch` 语句的几点规则：\n",
    "1. `expression` 必须是 `int` 或者 `char` 类型；`constant` 必须是 `int` 或 `char` 常量\n",
    "2. `switch` 语句的执行过程： 计算出 `expression` 的值，拿着这个值**从上到下**检查是否和某一条 `case` 语句的 `constant` 相等，如果一样就会执行**里面的 statements 和后面的 `case` 语句的 statements，除非遇到了 `break`**。这个特性叫做 *Fall through*，我们可以利用这个特性，将多个 `case` 语句堆叠在一起，表示逻辑上的「或」的关系\n",
    "3. 存在 `default` 表示默认情况，用于兜底，当前面的 `case` 语句都匹配失败的时候执行\n",
    "\n",
    "Python 则并没有提供 `switch` 语句，我们可以用 `if...elif..elif..else` 达到同样的效果，*举例来说，假设我们要根据 `list` 的长度执行不同的操作，我们可以这么写*："
   ]
  },
  {
   "cell_type": "code",
   "execution_count": 1,
   "id": "4827e609",
   "metadata": {},
   "outputs": [],
   "source": [
    "some_list = [1, 2, 3, 4, 5]\n",
    "\n",
    "if len(some_list) == 1:\n",
    "    # do something when the length is 1\n",
    "    ...\n",
    "# or more pythonic way: elif len(some_list) in [3, 5]:\n",
    "elif len(some_list) == 3 or len(some_list) == 5: \n",
    "    # do something when the length is 3 or 5\n",
    "    ...\n",
    "else:\n",
    "    ..."
   ]
  },
  {
   "cell_type": "markdown",
   "id": "e0d5c48b",
   "metadata": {},
   "source": [
    "上面这一连串的 `if...elif..elif..else` 其实可读性稍微差些，另外它还违反了 DRY(Don't repeat yourself) 原则，我们多次写下 `len(some_list)`\n",
    "\n",
    "当然我们可以选择先用一个变量 `length` 记住 `some_list` 的长度，这样就可以让我们少打一些代码，但若情况更复杂写，这个技巧也不适用了\n",
    "\n",
    "解决上面的一个更优雅的方式就是本文要讲到的：**Pattern matching** ⬇️"
   ]
  },
  {
   "cell_type": "code",
   "execution_count": 2,
   "id": "8093624f",
   "metadata": {},
   "outputs": [],
   "source": [
    "match len(some_list):\n",
    "    case 1:\n",
    "        # do something when the length is 1\n",
    "        ...\n",
    "    case 3 | 5:\n",
    "        # do something when the length is 3 or 5\n",
    "        ...\n",
    "    case _: # equal to the `default:`\n",
    "        ..."
   ]
  },
  {
   "cell_type": "markdown",
   "id": "1ff40762",
   "metadata": {},
   "source": [
    "## 基本的语法"
   ]
  },
  {
   "cell_type": "markdown",
   "id": "a14e6f34",
   "metadata": {},
   "source": [
    "下面我给出 Pattern matching 的基本语法\n",
    "\n",
    "```python\n",
    "match subject:\n",
    "    case <pattern_1>:\n",
    "        <action_1>\n",
    "    case <pattern_2>:\n",
    "        <action_2>\n",
    "    case <pattern_3>:\n",
    "        <action_3>\n",
    "    # [Optional] wildcard to cover all situations\n",
    "    case _:\n",
    "        <action_wildcard>\n",
    "```\n",
    "\n",
    "从语法上看，和前面 C 语言的 `switch` 语句差不多。区别在于：\n",
    "1. 虽然都是从上到下进行检查，但是 Python 的 pattern matching 不存在 Fall through 情况，只会执行匹配的 `case` 语句里面的代码。执行完就退出。所以也不用在每个 `case` 的代码块里最后加一个 `break`\n",
    "2. 没有 `default` 关键字，但是我们可以用 `case _` 来捕获所有的情况，这其实用到了后面会讲到的 *Wildcard pattern*\n",
    "3. 这里的 `subject` 和 `pattern` 比 C 语言的强大多了，**不仅仅是整型和字符类型**，`pattern` 彼此之间还可以**组合嵌套**。后面会对其进行详细说明"
   ]
  },
  {
   "cell_type": "markdown",
   "id": "bb370d19",
   "metadata": {},
   "source": [
    "## Patterns"
   ]
  },
  {
   "cell_type": "markdown",
   "id": "0447fb6b",
   "metadata": {},
   "source": [
    "在 pattern matching 里面，Pattern 主要有下面两个作用：\n",
    "1. 对 `subject` 的结构进行约束（structure constrait）\n",
    "2. 可以使用变量绑定 `subject` 的某些部分（bind variables），用于后续的处理，见 *Capture pattern*\n",
    "\n",
    "下面我们对不同的 patterns 进行探讨 :)\n",
    "\n",
    "为了避免造成困惑，有必要提前进行一下说明：在 pattern matching 匹配序列时候，`()` 和 `[]` 都是可选的。*比如，`case foo, bar` 和 `case (foo, bar)` 和 `case [foo, bar]` 都是等价的*。**这点和我们给序列做 unpacking 的时候一致**"
   ]
  },
  {
   "cell_type": "markdown",
   "id": "cd41c9a6",
   "metadata": {},
   "source": [
    "### Capture pattern\n",
    "\n",
    "*Capture pattern* 的意思是说我们在检查 `pattern` 是否匹配的时候，可以用**变量名绑定到它的任意一个部分**，我们就可以**在匹配成功之后使用这些变量**"
   ]
  },
  {
   "cell_type": "code",
   "execution_count": 3,
   "id": "04a96f2f",
   "metadata": {},
   "outputs": [
    {
     "name": "stdout",
     "output_type": "stream",
     "text": [
      "the 1st element: foo, 2nd element: bar\n"
     ]
    }
   ],
   "source": [
    "some_list = [\"foo\", \"bar\"]\n",
    "\n",
    "match some_list:\n",
    "    # we want to match a seq which has length = 2\n",
    "    # , we also use `first` and `second` to capture \\\n",
    "    # the 1st and 2nd elements here.\n",
    "    case [first, second]:\n",
    "        # we can access first, second now\n",
    "        print(f'the 1st element: {first}, 2nd element: {second}')"
   ]
  },
  {
   "cell_type": "markdown",
   "id": "4d263562",
   "metadata": {},
   "source": [
    "经常跟序列打交道的人想必对下面的代码不会陌生，我们**可以用 `*<name>` 来 unpacking**"
   ]
  },
  {
   "cell_type": "code",
   "execution_count": 4,
   "id": "0a523292",
   "metadata": {},
   "outputs": [],
   "source": [
    "*before, last = [1, 2, 3, 4]              \n",
    "assert last == 4, \"Error\"\n",
    "\n",
    "first, *middle, last = [1, 2, 3, 4]\n",
    "assert first == 1 and last == 4, \"Error\"\n",
    "\n",
    "first, *rest = [1, 2, 3, 4]\n",
    "assert first == 1, \"Error\""
   ]
  },
  {
   "cell_type": "markdown",
   "id": "caf6596e",
   "metadata": {},
   "source": [
    "类似的，在 pattern matching 里面也可以这样，**用一个变量捕获多个值**"
   ]
  },
  {
   "cell_type": "code",
   "execution_count": 5,
   "id": "4c1e975f",
   "metadata": {},
   "outputs": [
    {
     "name": "stdout",
     "output_type": "stream",
     "text": [
      "the 1st element: foo, 2nd element: ['bar', 'another_foo', 'another_bar']\n"
     ]
    }
   ],
   "source": [
    "some_list = [\"foo\", \"bar\", \"another_foo\", \"another_bar\"]\n",
    "\n",
    "match some_list:\n",
    "    # we want to match a seq\n",
    "    # , we also use `*rest` to capture the remaining elements\n",
    "    case [first, *rest]:\n",
    "        print(f'the 1st element: {first}, 2nd element: {rest}')"
   ]
  },
  {
   "cell_type": "markdown",
   "id": "098d45af",
   "metadata": {},
   "source": [
    "### Literal pattern\n",
    "\n",
    "*Literal pattern* 指的是我们可以**指定字面值来对 Pattern 进行约束**。这里的字面值可以是 number literal, string literals, `True`, `False` 还有 `None`\n",
    "\n",
    "> 📒 对于 number literals 和 string literals 这两者 Python 会使用 `==` 进行比较，而对于 `True/False/None` 这三个则是使用 `is` 来进行判断。注意这个细节"
   ]
  },
  {
   "cell_type": "code",
   "execution_count": 6,
   "id": "d2a15214",
   "metadata": {},
   "outputs": [
    {
     "name": "stdout",
     "output_type": "stream",
     "text": [
      "the 2nd element: bar\n"
     ]
    }
   ],
   "source": [
    "some_list = [\"foo\", \"bar\"]\n",
    "\n",
    "match some_list:\n",
    "    # we want to match a seq which has length = 2\n",
    "    # , the 1st element should be equal to \"foo\"\n",
    "    # , and we use `second` to capture the 2nd element\n",
    "    case [\"foo\", second]:\n",
    "        print(f'the 2nd element: {second}')"
   ]
  },
  {
   "cell_type": "code",
   "execution_count": 7,
   "id": "5d67b2f7",
   "metadata": {},
   "outputs": [
    {
     "name": "stdout",
     "output_type": "stream",
     "text": [
      "Matched, 1 == True\n"
     ]
    }
   ],
   "source": [
    "some_list = [True]\n",
    "\n",
    "match some_list:\n",
    "    case [1]:\n",
    "        print(f'Matched, 1 == True')"
   ]
  },
  {
   "cell_type": "markdown",
   "id": "610dd3e4",
   "metadata": {},
   "source": [
    "### Wildcard pattern\n",
    "\n",
    "这个其实在 Python 里面挺常见，我们常常使用 `_` 表示我们不关心某个变量是多少。在 pattern matching 里面，`_` 会和任何的东西匹配，但是**不会绑定任何变量**"
   ]
  },
  {
   "cell_type": "code",
   "execution_count": 8,
   "id": "f3d90027",
   "metadata": {},
   "outputs": [
    {
     "name": "stdout",
     "output_type": "stream",
     "text": [
      "the 2nd value: \n"
     ]
    }
   ],
   "source": [
    "some_list = [\"foo\", \"bar\"]\n",
    "\n",
    "match some_list:\n",
    "    # we want to match a seq which has length = 2\n",
    "    # , the 1st element should be equal to \"foo\"\n",
    "    # , and we use `_` to ignore the 2nd value\n",
    "    case [\"foo\", _]:\n",
    "        print(f'the 2nd value: {_}')   \n",
    "        # you should see empty output because we aren't binding value here"
   ]
  },
  {
   "cell_type": "markdown",
   "id": "330c851e",
   "metadata": {},
   "source": [
    "另外一个常见的用法就是之前出现过的 `case _`，因为 `_`会匹配任何情况，所以常常把 `case _` 放在最后表示默认情况"
   ]
  },
  {
   "cell_type": "code",
   "execution_count": 9,
   "id": "e1f4d3a7",
   "metadata": {},
   "outputs": [
    {
     "name": "stdout",
     "output_type": "stream",
     "text": [
      "Default case\n"
     ]
    }
   ],
   "source": [
    "some_list = [\"foo\", \"bar\"]\n",
    "\n",
    "match some_list:\n",
    "    # this case branch will not be matched\n",
    "    case [\"bar\", _]:\n",
    "        print('Match successfully')\n",
    "    case _:\n",
    "        print('Default case')"
   ]
  },
  {
   "cell_type": "markdown",
   "id": "88ba8254",
   "metadata": {},
   "source": [
    "### Or pattern\n",
    "\n",
    "就像 `if` 条件语句我们可以使用 `or` 表示多种可能的匹配情况，在 pattern matching 里面我们也有类似的语法。跟其他大多数语言一样，Python 选择使用 `|` 来表达「或」的逻辑关系。我们可以很方便声明备选项"
   ]
  },
  {
   "cell_type": "code",
   "execution_count": 10,
   "id": "d1e04d25",
   "metadata": {},
   "outputs": [
    {
     "name": "stdout",
     "output_type": "stream",
     "text": [
      "[First match]  Match foo or bar\n",
      "[Second match] Match foo or bar\n"
     ]
    }
   ],
   "source": [
    "some_list1 = [\"foo\"]\n",
    "some_list2 = [\"bar\"]\n",
    "\n",
    "match some_list1:\n",
    "    # we want to match a seq which has length = 1\n",
    "    # , the 1st element can be \"foo\" or \"bar\"\n",
    "    case [\"foo\" | \"bar\"]:\n",
    "        print('[First match]  Match foo or bar')\n",
    "\n",
    "match some_list2:\n",
    "    case [\"foo\" | \"bar\"]:\n",
    "        print('[Second match] Match foo or bar')"
   ]
  },
  {
   "cell_type": "markdown",
   "id": "072b5260",
   "metadata": {},
   "source": [
    "上面的 Or pattern 的缺点是：我们无法知道我们具体匹配到了什么哪一个"
   ]
  },
  {
   "cell_type": "markdown",
   "id": "2b1c7de9",
   "metadata": {},
   "source": [
    "### As pattern\n",
    "\n",
    "在上一个例子中，我们可能匹配到多个选项，那么**如何知道我们具体匹配到哪一个选项**呢？因为我们**可能需要根据具体匹配到的东西来决定要如何处理**。在 pattern matching 里面，可以使用 `as` 来绑定变量"
   ]
  },
  {
   "cell_type": "code",
   "execution_count": 11,
   "id": "e70ae47d",
   "metadata": {},
   "outputs": [],
   "source": [
    "some_list = [\"foo\"]\n",
    "\n",
    "match some_list:\n",
    "    # we want to match a seq which has length = 1\n",
    "    # , the 1st element can be \"foo\" or \"bar\"\n",
    "    # we bind matched string literal with `matched_element`\n",
    "    case (\"foo\" | \"bar\") as matched_element:\n",
    "        print(f'Match {matched_element}')"
   ]
  },
  {
   "cell_type": "markdown",
   "id": "4091b0ae",
   "metadata": {},
   "source": [
    "### Class pattern\n",
    "\n",
    "Python 是一个动态类型语言，有时我们也会有**需要根据类型来决定是否要匹配**的时候。我们当然可以选择自己在后面使用 `isinstance()` 来判断，但还有更好的方法。下面我将从从基本的例子出发带大家看看**如何加上类型约束**"
   ]
  },
  {
   "cell_type": "code",
   "execution_count": 12,
   "id": "de2fd4c1",
   "metadata": {},
   "outputs": [
    {
     "name": "stdout",
     "output_type": "stream",
     "text": [
      "Match foo - 1 - 3.14\n"
     ]
    }
   ],
   "source": [
    "some_list = [\"foo\", 1, 3.14]\n",
    "\n",
    "match some_list:\n",
    "    # match without type constraints\n",
    "    case [s, v1, v2]:\n",
    "        if isinstance(s, str) and isinstance(v1, int) and isinstance(v2, float):\n",
    "            print(f'Match {s} - {v1} - {v2}')"
   ]
  },
  {
   "cell_type": "markdown",
   "id": "51d8c150",
   "metadata": {},
   "source": [
    "第一个写法：考虑用 *Capture pattern*，类型约束放代码块里"
   ]
  },
  {
   "cell_type": "code",
   "execution_count": 13,
   "id": "3060dd88",
   "metadata": {},
   "outputs": [
    {
     "name": "stdout",
     "output_type": "stream",
     "text": [
      "Match foo - 1 - 3.14\n"
     ]
    }
   ],
   "source": [
    "some_list = [\"foo\", 1, 3.14]\n",
    "\n",
    "match some_list:\n",
    "    # match with type constraints\n",
    "    case [str() as s, int() as v1, float() as v2]:\n",
    "        print(f'Match {s} - {v1} - {v2}')"
   ]
  },
  {
   "cell_type": "markdown",
   "id": "d4acc705",
   "metadata": {},
   "source": [
    "此时我们在 `pattern` 里加上类型约束，这里写法上类似 *Literal pattern*，我们在对应位置声明我们想要匹配的类型，同时为了后面能输出，我们还需要 `as` 关键字将其绑定到变量上。但上面的写法**过于冗长**，好在 Python 为我们提供了语法糖🍬"
   ]
  },
  {
   "cell_type": "code",
   "execution_count": 14,
   "id": "d347e861",
   "metadata": {},
   "outputs": [
    {
     "name": "stdout",
     "output_type": "stream",
     "text": [
      "Match foo - 1 - 3.14\n"
     ]
    }
   ],
   "source": [
    "some_list = [\"foo\", 1, 3.14]\n",
    "\n",
    "match some_list:\n",
    "    # match with type constraints\n",
    "    case [str(s), int(v1), float(v2)]:\n",
    "        print(f'Match {s} - {v1} - {v2}')"
   ]
  },
  {
   "cell_type": "markdown",
   "id": "f71f6690",
   "metadata": {},
   "source": [
    "### Mapping pattern\n",
    "\n",
    "前面都是对于一个序列的匹配，这里则是对 `dict` 的匹配。相信在看完前面的各种 pattern 的例子之后，理解 `dict` 的匹配也没有什么难度。但有下面几点注意事项：\n",
    "1. `dict` 的匹配是通过限制 Key-Value 的结构。其中 Key 必须是字面值或者枚举类型的值（出于性能的考量），Value 则没有这个限制\n",
    "2. 使用 `**<name>` 来捕获我们没有写在 `pattern` 里面的 Key-Value pair。否则**默认是忽略掉的**\n",
    "\t- 但是 `**_` 是不行的，因为本来就忽略掉，而 `**_` 中的 `_` 表示不绑定任何匹配的东西，纯粹是多此一举"
   ]
  },
  {
   "cell_type": "code",
   "execution_count": 15,
   "id": "e705f193",
   "metadata": {},
   "outputs": [
    {
     "name": "stdout",
     "output_type": "stream",
     "text": [
      "[First match]  The first_name: foo\n",
      "[Second match] The rest: {'second_name': 'bar'}\n"
     ]
    }
   ],
   "source": [
    "some_dict = {\n",
    "    'first_name': 'foo', \n",
    "    'second_name': 'bar'\n",
    "}\n",
    "\n",
    "match some_dict:\n",
    "    case {'first_name': first_name}:\n",
    "        print(f'[First match]  The first_name: {first_name}')\n",
    "      \n",
    "    \n",
    "match some_dict:\n",
    "    case {'first_name': first_name, **rest}:\n",
    "        print(f'[Second match] The rest: {rest}')"
   ]
  },
  {
   "cell_type": "markdown",
   "id": "dcfc7fc0",
   "metadata": {},
   "source": [
    "### Value pattern\n",
    "\n",
    "使用「有名字的变量」作为参数值或澄清特定值的含义是很好的编程风格，这是 *Literal pattern* 欠缺的。*比如 `case (HttpStatus.OK, body)` 是比 `case (200, body)` 好的*\n",
    "\n",
    "在 Python 里面要实现 *Value pattern* 的挑战是要和前面的 *Capture pattern* 区分开，要让 Python 可以区分我们是要加一个「有名字的常量」这个约束还是我们在使用 *Capture pattern* 绑定变量。关于这点的讨论可以参见[^2]\n",
    "\n",
    "最后 Python 提供的解决方案是一个受限的 *Value patter*n，它**仅支持 `foo.bar` 这种形式的 *Value pattern***。比较常见的就是用于枚举类型，看下面这个例子"
   ]
  },
  {
   "cell_type": "code",
   "execution_count": 16,
   "id": "40fee49f",
   "metadata": {},
   "outputs": [
    {
     "name": "stdout",
     "output_type": "stream",
     "text": [
      "Receive HttpStatusCode.OK\n"
     ]
    }
   ],
   "source": [
    "from enum import Enum\n",
    "\n",
    "class HttpStatusCode(Enum):\n",
    "    CONTINUE = 100\n",
    "    OK = 200\n",
    "    \n",
    "some_list = [HttpStatusCode[\"OK\"]]\n",
    "\n",
    "match some_list:\n",
    "    case [HttpStatusCode.OK as status_code]:\n",
    "        print(f\"Receive {status_code}\")"
   ]
  },
  {
   "cell_type": "markdown",
   "id": "c71b4437",
   "metadata": {},
   "source": [
    "## 将 Pattern matching 用在一个类上"
   ]
  },
  {
   "cell_type": "markdown",
   "id": "b9578d41",
   "metadata": {},
   "source": [
    "如果只能将 pattern matching 用在内建的类型上，似乎用处没有那么大。但其实 Python 还允许我们对自己自定义的类的对象使用 pattern matching。\n",
    "\n",
    "考虑到应用场景，我们对一个对象做 pattern matching 的时候**常常是想要检查这个对象是否为某个类**，我们**还可能关心它的某些字段**，想要**提取对应的字段的值**。但是在 Python 里，这个实现起来有困难[^2]，主要是类的字段非常多，大部分是 `__repr__` 这种 magic methods，而且这些**字段是无序的**。因为是无序的，我们无法直接在 `pattern` 里面**按位置绑定变量**，看下面这个例子："
   ]
  },
  {
   "cell_type": "code",
   "execution_count": 17,
   "id": "5d0bba5d",
   "metadata": {},
   "outputs": [
    {
     "ename": "TypeError",
     "evalue": "Point.__init__() takes 2 positional arguments but 3 were given",
     "output_type": "error",
     "traceback": [
      "\u001b[0;31m---------------------------------------------------------------------------\u001b[0m",
      "\u001b[0;31mTypeError\u001b[0m                                 Traceback (most recent call last)",
      "Input \u001b[0;32mIn [17]\u001b[0m, in \u001b[0;36m<cell line: 7>\u001b[0;34m()\u001b[0m\n\u001b[1;32m      4\u001b[0m         \u001b[38;5;28mself\u001b[39m\u001b[38;5;241m.\u001b[39mx \u001b[38;5;241m=\u001b[39m x\n\u001b[1;32m      5\u001b[0m         \u001b[38;5;28mself\u001b[39m\u001b[38;5;241m.\u001b[39my \u001b[38;5;241m=\u001b[39m y\n\u001b[0;32m----> 7\u001b[0m some_point \u001b[38;5;241m=\u001b[39m \u001b[43mPoint\u001b[49m\u001b[43m(\u001b[49m\u001b[38;5;241;43m1\u001b[39;49m\u001b[43m,\u001b[49m\u001b[43m \u001b[49m\u001b[38;5;241;43m2\u001b[39;49m\u001b[43m)\u001b[49m\n\u001b[1;32m      9\u001b[0m \u001b[38;5;28;01mmatch\u001b[39;00m some_point:\n\u001b[1;32m     10\u001b[0m     \u001b[38;5;66;03m# the intuitive way, we want to match a Point type\u001b[39;00m\n\u001b[1;32m     11\u001b[0m     \u001b[38;5;66;03m# , and we want to bind the `x` and `y` and their two fields respectively\u001b[39;00m\n\u001b[1;32m     12\u001b[0m     \u001b[38;5;28;01mcase\u001b[39;00m Point(x, y):\n\u001b[1;32m     13\u001b[0m         \u001b[38;5;28mprint\u001b[39m(\u001b[38;5;124mf\u001b[39m\u001b[38;5;124m\"\u001b[39m\u001b[38;5;124mThe x: \u001b[39m\u001b[38;5;132;01m{\u001b[39;00mx\u001b[38;5;132;01m}\u001b[39;00m\u001b[38;5;124m\"\u001b[39m)\n\u001b[1;32m     14\u001b[0m         \u001b[38;5;28mprint\u001b[39m(\u001b[38;5;124mf\u001b[39m\u001b[38;5;124m\"\u001b[39m\u001b[38;5;124mThe y: \u001b[39m\u001b[38;5;132;01m{\u001b[39;00my\u001b[38;5;132;01m}\u001b[39;00m\u001b[38;5;124m\"\u001b[39m)\n",
      "\u001b[0;31mTypeError\u001b[0m: Point.__init__() takes 2 positional arguments but 3 were given"
     ]
    }
   ],
   "source": [
    "class Point:\n",
    "    \"\"\" A simple class represents a Point in a 2D\"\"\"\n",
    "    def __init__(x: int, y: int):\n",
    "        self.x = x\n",
    "        self.y = y\n",
    "    \n",
    "some_point = Point(1, 2)\n",
    "\n",
    "match some_point:\n",
    "    # the intuitive way, we want to match a Point type\n",
    "    # , and we want to bind the `x` and `y` and their two fields respectively\n",
    "    case Point(x, y):\n",
    "        print(f\"The x: {x}\")\n",
    "        print(f\"The y: {y}\")"
   ]
  },
  {
   "cell_type": "markdown",
   "id": "1642cfed",
   "metadata": {},
   "source": [
    "Python 提供了两种解决办法，从语法上看，跟我们在调用函数的时候非常像：我们可以选择按照位置传递参数，也可以选择用 `foo=bar` 这种形式\n",
    "\n",
    "先说简单的这种：**用 `foo=bar` 的形式对字段进行约束**，并且**绑定变量到字段上**。 *`foo=bar` 的意思是我们要求这个类有 `foo` 字段，同时我们想要将 `bar` 绑定到实例上的 `foo` 字段上*"
   ]
  },
  {
   "cell_type": "code",
   "execution_count": 18,
   "id": "d274de30",
   "metadata": {},
   "outputs": [
    {
     "name": "stdout",
     "output_type": "stream",
     "text": [
      "The x: 1\n",
      "The y: 2\n"
     ]
    }
   ],
   "source": [
    "class Point:\n",
    "    \"\"\" A simple class represents a Point in a 2D\"\"\"\n",
    "    def __init__(self, x: int, y: int):\n",
    "        self.x = x\n",
    "        self.y = y\n",
    "    \n",
    "some_point = Point(1, 2)\n",
    "\n",
    "match some_point:\n",
    "    # the intuitive way, we want to match a Point type\n",
    "    # , and we want to bind the `x` and `y` and their two fields respectively\n",
    "    case Point(x=x, y=y):\n",
    "        print(f\"The x: {x}\")\n",
    "        print(f\"The y: {y}\")"
   ]
  },
  {
   "cell_type": "markdown",
   "id": "33df07ab",
   "metadata": {},
   "source": [
    "另外一种解决办法是：修改类的 `__match_args__` 属性，该属性**规定了字段的顺序**"
   ]
  },
  {
   "cell_type": "code",
   "execution_count": 19,
   "id": "85c08635",
   "metadata": {},
   "outputs": [
    {
     "name": "stdout",
     "output_type": "stream",
     "text": [
      "The x: 1\n",
      "The y: 2\n"
     ]
    }
   ],
   "source": [
    "class Point:\n",
    "    \"\"\" A simple class represents a Point in a 2D\"\"\"\n",
    "    \n",
    "    # we tell python that the order is first \"x\" and then \"y\"\n",
    "    __match_args__ = (\"x\", \"y\")\n",
    "    \n",
    "    def __init__(self, x: int, y: int):\n",
    "        self.x = x\n",
    "        self.y = y\n",
    "    \n",
    "some_point = Point(1, 2)\n",
    "\n",
    "match some_point:\n",
    "    # the intuitive way, we want to match a Point type\n",
    "    # , and we want to bind the `x` and `y` and their two fields respectively\n",
    "    case Point(x, y):\n",
    "        print(f\"The x: {x}\")\n",
    "        print(f\"The y: {y}\")"
   ]
  },
  {
   "cell_type": "markdown",
   "id": "8743eb9c",
   "metadata": {},
   "source": [
    "如果你对 `@dataclass` 很熟悉的话[^3]，上面的代码可以大大简化，看下面"
   ]
  },
  {
   "cell_type": "code",
   "execution_count": 20,
   "id": "169d25de",
   "metadata": {},
   "outputs": [
    {
     "name": "stdout",
     "output_type": "stream",
     "text": [
      "The order is ('x', 'y')\n",
      "The x: 1\n",
      "The y: 2\n"
     ]
    }
   ],
   "source": [
    "from dataclasses import dataclass\n",
    "\n",
    "@dataclass(match_args=True)\n",
    "class Point:\n",
    "    \"\"\" A simple class represents a Point in a 2D\"\"\"\n",
    "    x: int\n",
    "    y: int\n",
    "        \n",
    "print(f\"The order is {Point.__match_args__}\")\n",
    "    \n",
    "some_point = Point(1, 2)\n",
    "\n",
    "match some_point:\n",
    "    # the intuitive way, we want to match a Point type\n",
    "    # , and we want to bind the `x` and `y` and their two fields respectively\n",
    "    case Point(x, y):\n",
    "        print(f\"The x: {x}\")\n",
    "        print(f\"The y: {y}\")"
   ]
  },
  {
   "cell_type": "markdown",
   "id": "9f8b87b1",
   "metadata": {},
   "source": [
    "## Guard"
   ]
  },
  {
   "cell_type": "markdown",
   "id": "1f5d4bed",
   "metadata": {},
   "source": [
    "有时候我们不仅关心模式是否匹配，我们还要加上某些限制。\n",
    "\n",
    "试考虑这么一种情况，你要匹配有两个 `int` 值的序列，但是第一个元素要比第二个大，那要怎么写呢？结合前面的 Class pattern，我们不难写出下面的代码："
   ]
  },
  {
   "cell_type": "code",
   "execution_count": 21,
   "id": "a8a132ac",
   "metadata": {},
   "outputs": [
    {
     "name": "stdout",
     "output_type": "stream",
     "text": [
      "Expect first > second. Match failed\n"
     ]
    }
   ],
   "source": [
    "some_list = [3, 4]\n",
    "\n",
    "match some_list:\n",
    "    case [int(first), int(second)]:\n",
    "        if first > second:\n",
    "            ...\n",
    "        else:\n",
    "            print(\"Expect first > second. Match failed\")"
   ]
  },
  {
   "cell_type": "markdown",
   "id": "9bef9bfa",
   "metadata": {},
   "source": [
    "上面的写法固然可以，我们在代码块里面自己用 `if` 语句再检查一遍就行。但就像类型约束一样，Python 已经考虑到了这个需求，因此它提供了 **Guard 💂‍♀️ 机制**，使得我们可以把 `if` 语句这个判断挪到 `pattern` 的后面。这样*可读性会强很多*。遵循的语法规则如下所示：\n",
    "\n",
    "```python\n",
    "match subject:\n",
    "    case <pattern> if <expression>:\n",
    "        ...\n",
    "```\n",
    "\n",
    "1. 在 `<pattern>` 后面跟上一个 `if` 语句，用来**在 `<pattern>` 匹配之后**对其进行限制\n",
    "2. 注意 Python 在这里 Evaluate 的顺序\n",
    "\t1. 先看 `<pattern>` 是否匹配\n",
    "\t2. 匹配的话，如果有绑定变量就绑定对应的变量\n",
    "\t3. 此时再看 `if <expression>` 语句是否返回 `True`。这里的 `<expression>` 可以用上一步绑定的变量。\n",
    "3. 当且仅当 `<pattern>` 匹配 + `if` 语句返回 `True` 的时候才会执行相应的代码块。否则检查不通过，继续尝试匹配下一个 `<pattern>`"
   ]
  },
  {
   "cell_type": "code",
   "execution_count": 22,
   "id": "0b986323",
   "metadata": {},
   "outputs": [],
   "source": [
    "some_list = [3, 4]\n",
    "\n",
    "match some_list:\n",
    "    case [int(first), int(second)] if first > second:\n",
    "        print(\"Match successfully!\")"
   ]
  },
  {
   "cell_type": "markdown",
   "id": "a2dee424",
   "metadata": {},
   "source": [
    "## 总结"
   ]
  },
  {
   "cell_type": "markdown",
   "id": "08086fcc",
   "metadata": {},
   "source": [
    "相比于使用 `if...elif...elif...else`，我会更喜欢 pattern matching 多一些，出于下面几点原因：\n",
    "1. 我们可以很方便地在匹配的时候绑定值用于后续处理\n",
    "2. 个人觉得可读性比较强，代码看起来没有那么乱\n",
    "3. pattern matching 的各种 patterns 其实是可以嵌套组合的，这也是 pattern matching 真正强大的地方\n",
    "\n",
    "\n",
    "上面就是 Python 3.10 引入的 pattern matching 的简短介绍🚀"
   ]
  },
  {
   "cell_type": "markdown",
   "id": "4d3f6dbb",
   "metadata": {},
   "source": [
    "## 参考"
   ]
  },
  {
   "cell_type": "markdown",
   "id": "eab87621",
   "metadata": {},
   "source": [
    "[^1]: [What's new in Python 3.10](https://docs.python.org/3/whatsnew/3.10.html)\n",
    "\n",
    "[^2]: [PEP 635 – Structural Pattern Matching: Motivation and Rationale](https://peps.python.org/pep-0635/)\n",
    "\n",
    "[^3]: [dataclasses - documentation](https://docs.python.org/3/library/dataclasses.html#dataclasses.dataclass)"
   ]
  }
 ],
 "metadata": {
  "kernelspec": {
   "display_name": "Python 3 (ipykernel)",
   "language": "python",
   "name": "python3"
  },
  "language_info": {
   "codemirror_mode": {
    "name": "ipython",
    "version": 3
   },
   "file_extension": ".py",
   "mimetype": "text/x-python",
   "name": "python",
   "nbconvert_exporter": "python",
   "pygments_lexer": "ipython3",
   "version": "3.10.4"
  }
 },
 "nbformat": 4,
 "nbformat_minor": 5
}
