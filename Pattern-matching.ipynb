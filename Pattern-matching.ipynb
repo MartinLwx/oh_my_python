{
 "cells": [
  {
   "cell_type": "markdown",
   "id": "fff66790",
   "metadata": {},
   "source": [
    "## Intro"
   ]
  },
  {
   "cell_type": "markdown",
   "id": "9dca8830",
   "metadata": {},
   "source": [
    "Today I want to talk about the new feature bring in Python 3.10 -- Pattern matching 🎉\n",
    "\n",
    "Those who have learned C language must be familiar with the following `switch` statement:\n",
    "\n",
    "```c\n",
    "switch (expression)\n",
    "{\n",
    "    case constant_1:\n",
    "      // statements\n",
    "      break;\n",
    "\n",
    "    case constant_2:\n",
    "      // statements\n",
    "      break;\n",
    "      \n",
    "    // Fall through\n",
    "    // the value of the expression can be either constant_3 or constant_4 :)\n",
    "    case constant_3:\n",
    "    case constant_4:\n",
    "      \n",
    "      // statements\n",
    "    \n",
    "    \n",
    "    default:\n",
    "      // default statements\n",
    "}\n",
    "```\n",
    "\n",
    "To recap, the syntax rules of the `switch` statement:\n",
    "1. `expression` should be the `int` or `char` type. `constant` should be the `int` or `char` constant\n",
    "2. The execution process of the `switch` statement: Calculate the value of `expression`, and compare this value with each `constant` **from top to bottom**. If they are equal, the statements **inside the specific `case` and all the `case` after the matched `case`** will be executed, unless it finds a `break` statement. This feature is called *Fall through*, and we can use this feature to stack multiple `case` statements together to represent a logical \"or\" relationship\n",
    "3. The `default` branch will be executed when all the previous `case` branches fail to match\n",
    "\n",
    "Python does not provide a `switch` statement, but we can use `if...elif..elif..else` to achieve the same effect, *for example, suppose we want to perform different operations depending on the length of the `list`, We can write this*:"
   ]
  },
  {
   "cell_type": "code",
   "execution_count": 1,
   "id": "41215ab7",
   "metadata": {},
   "outputs": [],
   "source": [
    "some_list = [1, 2, 3, 4, 5]\n",
    "\n",
    "if len(some_list) == 1:\n",
    "    # do something when the length is 1\n",
    "    ...\n",
    "# or more pythonic way: elif len(some_list) in [3, 5]:\n",
    "elif len(some_list) == 3 or len(some_list) == 5: \n",
    "    # do something when the length is 3 or 5\n",
    "    ...\n",
    "else:\n",
    "    ..."
   ]
  },
  {
   "cell_type": "markdown",
   "id": "48884aa5",
   "metadata": {},
   "source": [
    "The above series of `if...elif..elif..else` is actually slightly less readable, and it also violates the DRY(Don't repeat yourself) principle, we write `len(some_list)` many times.\n",
    "\n",
    "Of course, we can choose to use a variable `length` to remember the length of `some_list` first, so that we can type less code. However, if the situation is more complicated, this trick is not applicable.\n",
    "\n",
    "A more elegant way to handle this situation is what this article is about: **Pattern matching** ⬇️"
   ]
  },
  {
   "cell_type": "code",
   "execution_count": 2,
   "id": "7688394a",
   "metadata": {},
   "outputs": [],
   "source": [
    "match len(some_list):\n",
    "    case 1:\n",
    "        # do something when the length is 1\n",
    "        ...\n",
    "    case 3 | 5:\n",
    "        # do something when the length is 3 or 5\n",
    "        ...\n",
    "    case _: # equal to the `default:`\n",
    "        ..."
   ]
  },
  {
   "cell_type": "markdown",
   "id": "45c91ae1",
   "metadata": {},
   "source": [
    "## Syntax rules"
   ]
  },
  {
   "cell_type": "markdown",
   "id": "508133a2",
   "metadata": {},
   "source": [
    "The syntax of the pattern matching is:\n",
    "\n",
    "```python\n",
    "match subject:\n",
    "    case <pattern_1>:\n",
    "        <action_1>\n",
    "    case <pattern_2>:\n",
    "        <action_2>\n",
    "    case <pattern_3>:\n",
    "        <action_3>\n",
    "    # [Optional] wildcard to cover all situations\n",
    "    case _:\n",
    "        <action_wildcard>\n",
    "```\n",
    "\n",
    "Syntactically, it is similar to the aforementioned `switch` statement in C. The differences are:\n",
    "1. There is no *fall through* in pattern matching. **Only the code inside the matched `case` branch** will be executed. So we don't need to add a `break` statement at the end of each `case` block\n",
    "2. No `default` available. But we can use `case _` to capture all cases, which is called the *Wildcard pattern* that will be discussed later\n",
    "3. The `subject` and `pattern` here are much more powerful than the C language, **not only the integer and char types**, but `pattern` can also be **combined and nested** with each other. It will be explained in detail later"
   ]
  },
  {
   "cell_type": "markdown",
   "id": "7edbe1d9",
   "metadata": {},
   "source": [
    "## Patterns"
   ]
  },
  {
   "cell_type": "markdown",
   "id": "3a43dfe5",
   "metadata": {},
   "source": [
    "In pattern matching, a pattern basically does two things:\n",
    "1. Structure constraints: we can add constraints to the `subject` in various ways. *For example the length, the specific value in a specific position, etc*\n",
    "2. Bind variables: we can bind some names in the pattern to component elements of the subject. See the *Capture pattern* below.\n",
    "\n",
    "Below I discuss different patterns :)\n",
    "\n",
    "To avoid confusion, it's worth explaining in advance that both `()` and `[]` are optional when pattern matching matches a sequence. *For example, `case foo, bar` and `case (foo, bar)` and `case [foo, bar]` are equivalent*. They have the same meaning."
   ]
  },
  {
   "cell_type": "markdown",
   "id": "99e59953",
   "metadata": {},
   "source": [
    "### Capture pattern\n",
    "\n",
    "*Capture pattern* means that when we check whether a `pattern` matches, we can use **variable names to bind to any part of it**, and we can **use these variables later**"
   ]
  },
  {
   "cell_type": "code",
   "execution_count": 3,
   "id": "ebba1ab7",
   "metadata": {},
   "outputs": [
    {
     "name": "stdout",
     "output_type": "stream",
     "text": [
      "the 1st element: foo, 2nd element: bar\n"
     ]
    }
   ],
   "source": [
    "some_list = [\"foo\", \"bar\"]\n",
    "\n",
    "match some_list:\n",
    "    # we want to match a seq which has length = 2\n",
    "    # , we also use `first` and `second` to capture \\\n",
    "    # the 1st and 2nd elements here.\n",
    "    case [first, second]:\n",
    "        # we can access first, second now\n",
    "        print(f'the 1st element: {first}, 2nd element: {second}')"
   ]
  },
  {
   "cell_type": "markdown",
   "id": "5fafd859",
   "metadata": {},
   "source": [
    "People who often deal with sequences must be familiar with the following code:"
   ]
  },
  {
   "cell_type": "code",
   "execution_count": 4,
   "id": "e867fc8c",
   "metadata": {},
   "outputs": [],
   "source": [
    "*before, last = [1, 2, 3, 4]              \n",
    "assert last == 4, \"Error\"\n",
    "\n",
    "first, *middle, last = [1, 2, 3, 4]\n",
    "assert first == 1 and last == 4, \"Error\"\n",
    "\n",
    "first, *rest = [1, 2, 3, 4]\n",
    "assert first == 1, \"Error\""
   ]
  },
  {
   "cell_type": "markdown",
   "id": "64ed92ed",
   "metadata": {},
   "source": [
    "Similarly, we can do this in pattern matching:"
   ]
  },
  {
   "cell_type": "code",
   "execution_count": 5,
   "id": "e49652fd",
   "metadata": {},
   "outputs": [
    {
     "name": "stdout",
     "output_type": "stream",
     "text": [
      "the 1st element: foo, 2nd element: ['bar', 'another_foo', 'another_bar']\n"
     ]
    }
   ],
   "source": [
    "some_list = [\"foo\", \"bar\", \"another_foo\", \"another_bar\"]\n",
    "\n",
    "match some_list:\n",
    "    # we want to match a seq\n",
    "    # , we also use `*rest` to capture the remaining elements\n",
    "    case [first, *rest]:\n",
    "        print(f'the 1st element: {first}, 2nd element: {rest}')"
   ]
  },
  {
   "cell_type": "markdown",
   "id": "539d56e3",
   "metadata": {},
   "source": [
    "### Literal pattern\n",
    "\n",
    "*Literal pattern* means that we can **specify literal values in specific positions**. The literals here can be number literals, string literals, `True`, `False`, and `None`\n",
    "\n",
    "> 📒 Note: For number literals and string literals, python will use `==` for comparison, and for `True/False/None` these three will use `is`."
   ]
  },
  {
   "cell_type": "code",
   "execution_count": 6,
   "id": "5229cca7",
   "metadata": {},
   "outputs": [
    {
     "name": "stdout",
     "output_type": "stream",
     "text": [
      "the 2nd element: bar\n"
     ]
    }
   ],
   "source": [
    "some_list = [\"foo\", \"bar\"]\n",
    "\n",
    "match some_list:\n",
    "    # we want to match a seq which has length = 2\n",
    "    # , the 1st element should be equal to \"foo\"\n",
    "    # , and we use `second` to capture the 2nd element\n",
    "    case [\"foo\", second]:\n",
    "        print(f'the 2nd element: {second}')"
   ]
  },
  {
   "cell_type": "code",
   "execution_count": 7,
   "id": "79b4732a",
   "metadata": {},
   "outputs": [
    {
     "name": "stdout",
     "output_type": "stream",
     "text": [
      "Matched, 1 == True\n"
     ]
    }
   ],
   "source": [
    "some_list = [True]\n",
    "\n",
    "match some_list:\n",
    "    case [1]:\n",
    "        print(f'Matched, 1 == True')"
   ]
  },
  {
   "cell_type": "markdown",
   "id": "647ecd23",
   "metadata": {},
   "source": [
    "### Wildcard pattern\n",
    "\n",
    "It is a common practice in python that: use `_` to indicate that we don't care about the value. Similarly, `_` can be used here, and it **will not bind any variables**"
   ]
  },
  {
   "cell_type": "code",
   "execution_count": 8,
   "id": "68394a66",
   "metadata": {},
   "outputs": [
    {
     "name": "stdout",
     "output_type": "stream",
     "text": [
      "the 2nd value: \n"
     ]
    }
   ],
   "source": [
    "some_list = [\"foo\", \"bar\"]\n",
    "\n",
    "match some_list:\n",
    "    # we want to match a seq which has length = 2\n",
    "    # , the 1st element should be equal to \"foo\"\n",
    "    # , and we use `_` to ignore the 2nd value\n",
    "    case [\"foo\", _]:\n",
    "        print(f'the 2nd value: {_}')   \n",
    "        # you should see empty output because we aren't binding value here"
   ]
  },
  {
   "cell_type": "markdown",
   "id": "2dadab03",
   "metadata": {},
   "source": [
    "Another common usage is the `case _` that appeared before. The `_` will match everything, so `case _` is often put at the end to indicate the default case"
   ]
  },
  {
   "cell_type": "code",
   "execution_count": 9,
   "id": "0a613f34",
   "metadata": {},
   "outputs": [
    {
     "name": "stdout",
     "output_type": "stream",
     "text": [
      "Default case\n"
     ]
    }
   ],
   "source": [
    "some_list = [\"foo\", \"bar\"]\n",
    "\n",
    "match some_list:\n",
    "    # this case branch will not be matched\n",
    "    case [\"bar\", _]:\n",
    "        print('Match successfully')\n",
    "    case _:\n",
    "        print('Default case')"
   ]
  },
  {
   "cell_type": "markdown",
   "id": "35742863",
   "metadata": {},
   "source": [
    "### Or pattern\n",
    "\n",
    "Just like in the `if` statement we can use `or`, in pattern matching we also have a similar syntax. Like most other languages, Python chooses to use `|` to express an \"or\" logical relationship. We can declare the alternatives conveniently"
   ]
  },
  {
   "cell_type": "code",
   "execution_count": 10,
   "id": "4eeec0fd",
   "metadata": {},
   "outputs": [
    {
     "name": "stdout",
     "output_type": "stream",
     "text": [
      "[First match]  Match foo or bar\n",
      "[Second match] Match foo or bar\n"
     ]
    }
   ],
   "source": [
    "some_list1 = [\"foo\"]\n",
    "some_list2 = [\"bar\"]\n",
    "\n",
    "match some_list1:\n",
    "    # we want to match a seq which has length = 1\n",
    "    # , the 1st element can be \"foo\" or \"bar\"\n",
    "    case [\"foo\" | \"bar\"]:\n",
    "        print('[First match]  Match foo or bar')\n",
    "\n",
    "match some_list2:\n",
    "    case [\"foo\" | \"bar\"]:\n",
    "        print('[Second match] Match foo or bar')"
   ]
  },
  {
   "cell_type": "markdown",
   "id": "d9eb3ffe",
   "metadata": {},
   "source": [
    "The disadvantage of the Or pattern above is that we have no way of knowing which one we matched exactly"
   ]
  },
  {
   "cell_type": "markdown",
   "id": "2b1c7de9",
   "metadata": {},
   "source": [
    "### As pattern\n",
    "\n",
    "In the previous example, we may match any of the alternatives, so how do we know which one we match? Because we **may need to decide what to do based on which one is matched**. In pattern matching, we can use `as` to bind a value"
   ]
  },
  {
   "cell_type": "code",
   "execution_count": 11,
   "id": "ea614fcf",
   "metadata": {},
   "outputs": [],
   "source": [
    "some_list = [\"foo\"]\n",
    "\n",
    "match some_list:\n",
    "    # we want to match a seq which has length = 1\n",
    "    # , the 1st element can be \"foo\" or \"bar\"\n",
    "    # we bind matched string literal with `matched_element`\n",
    "    case (\"foo\" | \"bar\") as matched_element:\n",
    "        print(f'Match {matched_element}')"
   ]
  },
  {
   "cell_type": "markdown",
   "id": "25eb9f58",
   "metadata": {},
   "source": [
    "### Class pattern\n",
    "\n",
    "Python is a dynamically typed language, and sometimes we need to **decide whether to match based on the type**. The intuitive way is using `isinstance()` to check if it is qualified, but there is a better way. Next, I will show you how to add type constraints step by step:"
   ]
  },
  {
   "cell_type": "code",
   "execution_count": 12,
   "id": "d30bc685",
   "metadata": {},
   "outputs": [
    {
     "name": "stdout",
     "output_type": "stream",
     "text": [
      "Match foo - 1 - 3.14\n"
     ]
    }
   ],
   "source": [
    "some_list = [\"foo\", 1, 3.14]\n",
    "\n",
    "match some_list:\n",
    "    # match without type constraints\n",
    "    case [s, v1, v2]:\n",
    "        if isinstance(s, str) and isinstance(v1, int) and isinstance(v2, float):\n",
    "            print(f'Match {s} - {v1} - {v2}')"
   ]
  },
  {
   "cell_type": "markdown",
   "id": "996a4683",
   "metadata": {},
   "source": [
    "The intuitive way: we use the *Capture pattern* to bind values, and use `isinstance` to check the type in the code block"
   ]
  },
  {
   "cell_type": "code",
   "execution_count": 13,
   "id": "09301fb9",
   "metadata": {},
   "outputs": [
    {
     "name": "stdout",
     "output_type": "stream",
     "text": [
      "Match foo - 1 - 3.14\n"
     ]
    }
   ],
   "source": [
    "some_list = [\"foo\", 1, 3.14]\n",
    "\n",
    "match some_list:\n",
    "    # match with type constraints\n",
    "    case [str() as s, int() as v1, float() as v2]:\n",
    "        print(f'Match {s} - {v1} - {v2}')"
   ]
  },
  {
   "cell_type": "markdown",
   "id": "a990b21f",
   "metadata": {},
   "source": [
    "The syntax here is quite similar to the previous *Literal pattern* + *As pattern*. i.e. We declare the type we want to match in the corresponding position. At the same time, we use the `as` keyword to bind the value. \n",
    "\n",
    "Less typing but still less elegant :(. Fortunately, python provides us with syntactic sugar 🍬"
   ]
  },
  {
   "cell_type": "code",
   "execution_count": 14,
   "id": "a96a550c",
   "metadata": {},
   "outputs": [
    {
     "name": "stdout",
     "output_type": "stream",
     "text": [
      "Match foo - 1 - 3.14\n"
     ]
    }
   ],
   "source": [
    "some_list = [\"foo\", 1, 3.14]\n",
    "\n",
    "match some_list:\n",
    "    # match with type constraints\n",
    "    case [str(s), int(v1), float(v2)]:\n",
    "        print(f'Match {s} - {v1} - {v2}')"
   ]
  },
  {
   "cell_type": "markdown",
   "id": "3c29e72e",
   "metadata": {},
   "source": [
    "### Mapping pattern\n",
    "\n",
    "The previous ones are all matching against a sequence, here we are matching against the `dict`. I believe that after reading the previous examples, it is not difficult to understand the following example. But there are a few things to keep in mind:\n",
    "1. we match `dict` based on its present keys. The keys here must be a literal value or a value of enum type (for performance considerations), values do not have this restriction\n",
    "2. we can use `**<name>` to capture the key-value pair we didn't write in `pattern`. Otherwise **the undeclared key-value pairs will be ignored**"
   ]
  },
  {
   "cell_type": "code",
   "execution_count": 15,
   "id": "0113c499",
   "metadata": {},
   "outputs": [
    {
     "name": "stdout",
     "output_type": "stream",
     "text": [
      "[First match]  The first_name: foo\n",
      "[Second match] The rest: {'second_name': 'bar'}\n"
     ]
    }
   ],
   "source": [
    "some_dict = {\n",
    "    'first_name': 'foo', \n",
    "    'second_name': 'bar'\n",
    "}\n",
    "\n",
    "match some_dict:\n",
    "    case {'first_name': first_name}:\n",
    "        print(f'[First match]  The first_name: {first_name}')\n",
    "      \n",
    "    \n",
    "match some_dict:\n",
    "    case {'first_name': first_name, **rest}:\n",
    "        print(f'[Second match] The rest: {rest}')"
   ]
  },
  {
   "cell_type": "markdown",
   "id": "e0d54ec0",
   "metadata": {},
   "source": [
    "### Value pattern\n",
    "\n",
    "It's good practice to use \"named variables\" as parameter values or to clarify the meaning of specific values. *e.g. `case (HttpStatus.OK, body)` is better than `case (200, body)`*\n",
    "\n",
    "The challenge of implementing the *Value pattern* in Python is to distinguish it from the previous *Capture pattern*. A discussion of this can be found at [^2]\n",
    "\n",
    "The final solution provided by python is a restricted *Value pattern* that only supports *Value pattern* of the form `foo.bar`. Common usage will be combined with the enum type, see the following example"
   ]
  },
  {
   "cell_type": "code",
   "execution_count": 16,
   "id": "5a2fe977",
   "metadata": {},
   "outputs": [
    {
     "name": "stdout",
     "output_type": "stream",
     "text": [
      "Receive HttpStatusCode.OK\n"
     ]
    }
   ],
   "source": [
    "from enum import Enum\n",
    "\n",
    "class HttpStatusCode(Enum):\n",
    "    CONTINUE = 100\n",
    "    OK = 200\n",
    "    \n",
    "some_list = [HttpStatusCode[\"OK\"]]\n",
    "\n",
    "match some_list:\n",
    "    case [HttpStatusCode.OK as status_code]:\n",
    "        print(f\"Receive {status_code}\")"
   ]
  },
  {
   "cell_type": "markdown",
   "id": "4a6399b2",
   "metadata": {},
   "source": [
    "## Use pattern matching on a class"
   ]
  },
  {
   "cell_type": "markdown",
   "id": "11c6c160",
   "metadata": {},
   "source": [
    "If we can only use pattern matching on built-in types, it doesn't seem to be that useful. But in fact, Python also allows us to use pattern matching on objects of our own custom classes.\n",
    "\n",
    "Considering the application scenario, when we use pattern matching on an object, we often want to check whether the object is a certain class type. We may also care about some of its fields and want to extract the values. \n",
    "\n",
    "But in Python, this is difficult to implement[^2], mainly because the class has a lot of fields, most of which are special methods like `__repr__`, and these **fields are unordered**. Because it is unordered, we **can't directly bind variables by position** in `pattern`, see the following example:"
   ]
  },
  {
   "cell_type": "code",
   "execution_count": 17,
   "id": "aeb0ccd4",
   "metadata": {},
   "outputs": [
    {
     "ename": "TypeError",
     "evalue": "Point.__init__() takes 2 positional arguments but 3 were given",
     "output_type": "error",
     "traceback": [
      "\u001b[0;31m---------------------------------------------------------------------------\u001b[0m",
      "\u001b[0;31mTypeError\u001b[0m                                 Traceback (most recent call last)",
      "Input \u001b[0;32mIn [17]\u001b[0m, in \u001b[0;36m<cell line: 7>\u001b[0;34m()\u001b[0m\n\u001b[1;32m      4\u001b[0m         \u001b[38;5;28mself\u001b[39m\u001b[38;5;241m.\u001b[39mx \u001b[38;5;241m=\u001b[39m x\n\u001b[1;32m      5\u001b[0m         \u001b[38;5;28mself\u001b[39m\u001b[38;5;241m.\u001b[39my \u001b[38;5;241m=\u001b[39m y\n\u001b[0;32m----> 7\u001b[0m some_point \u001b[38;5;241m=\u001b[39m \u001b[43mPoint\u001b[49m\u001b[43m(\u001b[49m\u001b[38;5;241;43m1\u001b[39;49m\u001b[43m,\u001b[49m\u001b[43m \u001b[49m\u001b[38;5;241;43m2\u001b[39;49m\u001b[43m)\u001b[49m\n\u001b[1;32m      9\u001b[0m \u001b[38;5;28;01mmatch\u001b[39;00m some_point:\n\u001b[1;32m     10\u001b[0m     \u001b[38;5;66;03m# the intuitive way, we want to match a Point type\u001b[39;00m\n\u001b[1;32m     11\u001b[0m     \u001b[38;5;66;03m# , and we want to bind the `x` and `y` and their two fields respectively\u001b[39;00m\n\u001b[1;32m     12\u001b[0m     \u001b[38;5;28;01mcase\u001b[39;00m Point(x, y):\n\u001b[1;32m     13\u001b[0m         \u001b[38;5;28mprint\u001b[39m(\u001b[38;5;124mf\u001b[39m\u001b[38;5;124m\"\u001b[39m\u001b[38;5;124mThe x: \u001b[39m\u001b[38;5;132;01m{\u001b[39;00mx\u001b[38;5;132;01m}\u001b[39;00m\u001b[38;5;124m\"\u001b[39m)\n\u001b[1;32m     14\u001b[0m         \u001b[38;5;28mprint\u001b[39m(\u001b[38;5;124mf\u001b[39m\u001b[38;5;124m\"\u001b[39m\u001b[38;5;124mThe y: \u001b[39m\u001b[38;5;132;01m{\u001b[39;00my\u001b[38;5;132;01m}\u001b[39;00m\u001b[38;5;124m\"\u001b[39m)\n",
      "\u001b[0;31mTypeError\u001b[0m: Point.__init__() takes 2 positional arguments but 3 were given"
     ]
    }
   ],
   "source": [
    "class Point:\n",
    "    \"\"\" A simple class represents a Point in a 2D\"\"\"\n",
    "    def __init__(x: int, y: int):\n",
    "        self.x = x\n",
    "        self.y = y\n",
    "    \n",
    "some_point = Point(1, 2)\n",
    "\n",
    "match some_point:\n",
    "    # the intuitive way, we want to match a Point type\n",
    "    # , and we want to bind the `x` and `y` and their two fields respectively\n",
    "    case Point(x, y):\n",
    "        print(f\"The x: {x}\")\n",
    "        print(f\"The y: {y}\")"
   ]
  },
  {
   "cell_type": "markdown",
   "id": "5686cf43",
   "metadata": {},
   "source": [
    "Python provides two solutions, which are syntactically very similar to calling a function: we can choose to pass arguments by position, or we can choose to use the form `foo=bar`\n",
    "\n",
    "Let's talk about the simple one first: add constraints by using `foo=bar`, which means that the object should have a field called `foo` and we want to bind `bar` to it."
   ]
  },
  {
   "cell_type": "code",
   "execution_count": 18,
   "id": "ae18c7f8",
   "metadata": {},
   "outputs": [
    {
     "name": "stdout",
     "output_type": "stream",
     "text": [
      "The x: 1\n",
      "The y: 2\n"
     ]
    }
   ],
   "source": [
    "class Point:\n",
    "    \"\"\" A simple class represents a Point in a 2D\"\"\"\n",
    "    def __init__(self, x: int, y: int):\n",
    "        self.x = x\n",
    "        self.y = y\n",
    "    \n",
    "some_point = Point(1, 2)\n",
    "\n",
    "match some_point:\n",
    "    # the intuitive way, we want to match a Point type\n",
    "    # , and we want to bind the `x` and `y` and their two fields respectively\n",
    "    case Point(x=x, y=y):\n",
    "        print(f\"The x: {x}\")\n",
    "        print(f\"The y: {y}\")"
   ]
  },
  {
   "cell_type": "markdown",
   "id": "fcbbfdb5",
   "metadata": {},
   "source": [
    "Another solution is to modify the `__match_args__` attribute of the class, which **specifies the order of the fields**"
   ]
  },
  {
   "cell_type": "code",
   "execution_count": 19,
   "id": "46fb26ab",
   "metadata": {},
   "outputs": [
    {
     "name": "stdout",
     "output_type": "stream",
     "text": [
      "The x: 1\n",
      "The y: 2\n"
     ]
    }
   ],
   "source": [
    "class Point:\n",
    "    \"\"\" A simple class represents a Point in a 2D\"\"\"\n",
    "    \n",
    "    # we tell python that the order is first \"x\" and then \"y\"\n",
    "    __match_args__ = (\"x\", \"y\")\n",
    "    \n",
    "    def __init__(self, x: int, y: int):\n",
    "        self.x = x\n",
    "        self.y = y\n",
    "    \n",
    "some_point = Point(1, 2)\n",
    "\n",
    "match some_point:\n",
    "    # the intuitive way, we want to match a Point type\n",
    "    # , and we want to bind the `x` and `y` and their two fields respectively\n",
    "    case Point(x, y):\n",
    "        print(f\"The x: {x}\")\n",
    "        print(f\"The y: {y}\")"
   ]
  },
  {
   "cell_type": "markdown",
   "id": "38f492f4",
   "metadata": {},
   "source": [
    "if you are familiar with `@dataclass`[^3], you can do this:"
   ]
  },
  {
   "cell_type": "code",
   "execution_count": 20,
   "id": "78ab5bed",
   "metadata": {},
   "outputs": [
    {
     "name": "stdout",
     "output_type": "stream",
     "text": [
      "The order is ('x', 'y')\n",
      "The x: 1\n",
      "The y: 2\n"
     ]
    }
   ],
   "source": [
    "from dataclasses import dataclass\n",
    "\n",
    "@dataclass(match_args=True)\n",
    "class Point:\n",
    "    \"\"\" A simple class represents a Point in a 2D\"\"\"\n",
    "    x: int\n",
    "    y: int\n",
    "        \n",
    "print(f\"The order is {Point.__match_args__}\")\n",
    "    \n",
    "some_point = Point(1, 2)\n",
    "\n",
    "match some_point:\n",
    "    # the intuitive way, we want to match a Point type\n",
    "    # , and we want to bind the `x` and `y` and their two fields respectively\n",
    "    case Point(x, y):\n",
    "        print(f\"The x: {x}\")\n",
    "        print(f\"The y: {y}\")"
   ]
  },
  {
   "cell_type": "markdown",
   "id": "92d6cdd9",
   "metadata": {},
   "source": [
    "## Guard"
   ]
  },
  {
   "cell_type": "markdown",
   "id": "4c02feac",
   "metadata": {},
   "source": [
    "Sometimes we not only care about whether the pattern matches, but we also want to impose certain restrictions.\n",
    "\n",
    "Consider such a situation where we want to match a sequence containing two `int` values, but we require the first element shoudld be larger than the second. How would you write it? Combined with the previous *Class pattern*, it is not difficult for us to write the following code:"
   ]
  },
  {
   "cell_type": "code",
   "execution_count": 21,
   "id": "4547e1a4",
   "metadata": {},
   "outputs": [
    {
     "name": "stdout",
     "output_type": "stream",
     "text": [
      "Expect first > second. Match failed\n"
     ]
    }
   ],
   "source": [
    "some_list = [3, 4]\n",
    "\n",
    "match some_list:\n",
    "    case [int(first), int(second)]:\n",
    "        if first > second:\n",
    "            ...\n",
    "        else:\n",
    "            print(\"Expect first > second. Match failed\")"
   ]
  },
  {
   "cell_type": "markdown",
   "id": "51525991",
   "metadata": {},
   "source": [
    "The above solution is fine, we definitely can use the `if` statement in the code block to add constraints. But just like type constraints, Python has taken this requirement into account, so it provides a **Guard 💂‍♀️ mechanism**, which allows us to move the `if` statement to the end of the `pattern` for readability. \n",
    "\n",
    "The syntax rules to follow:\n",
    "\n",
    "````python\n",
    "match subject:\n",
    "    case <pattern> if <expression>:\n",
    "        ...\n",
    "````\n",
    "\n",
    "1. `<pattern>` followed by an `if` statement\n",
    "2. Note how python evaluates this here:\n",
    "    1. Check if `<pattern>` matches\n",
    "    2. If it matches, bind values if we declared\n",
    "    3. Check if the `if <expression>` statement returns `True`. The `<expression>` here can use the previously bound variable in step 2\n",
    "3. The code inside the code block will be executed if and only if `<pattern>` matches + `if` statement returns `True`. Otherwise, it will fail and try to match the next `<pattern>`"
   ]
  },
  {
   "cell_type": "code",
   "execution_count": 22,
   "id": "7073e386",
   "metadata": {},
   "outputs": [],
   "source": [
    "some_list = [3, 4]\n",
    "\n",
    "match some_list:\n",
    "    case [int(first), int(second)] if first > second:\n",
    "        print(\"Match successfully!\")"
   ]
  },
  {
   "cell_type": "markdown",
   "id": "f4639062",
   "metadata": {},
   "source": [
    "## Wrap up"
   ]
  },
  {
   "cell_type": "markdown",
   "id": "cda14d41",
   "metadata": {},
   "source": [
    "I would prefer pattern matching to the `if...elif...elif...else` for several reasons:\n",
    "1. We can easily bind values for subsequent processing when matching\n",
    "2. For better readabilityg\n",
    "3. The various patterns of pattern matching can actually be nested and combined, that's what makes pattern matching a shining point.\n",
    "\n",
    "The above is a brief introduction to pattern matching introduced in Python 3.10 🚀"
   ]
  },
  {
   "cell_type": "markdown",
   "id": "06236909",
   "metadata": {},
   "source": [
    "## 参考"
   ]
  },
  {
   "cell_type": "markdown",
   "id": "67f00b4f",
   "metadata": {},
   "source": [
    "[^1]: [What's new in Python 3.10](https://docs.python.org/3/whatsnew/3.10.html)\n",
    "\n",
    "[^2]: [PEP 635 – Structural Pattern Matching: Motivation and Rationale](https://peps.python.org/pep-0635/)\n",
    "\n",
    "[^3]: [dataclasses - documentation](https://docs.python.org/3/library/dataclasses.html#dataclasses.dataclass)"
   ]
  }
 ],
 "metadata": {
  "kernelspec": {
   "display_name": "Python 3 (ipykernel)",
   "language": "python",
   "name": "python3"
  },
  "language_info": {
   "codemirror_mode": {
    "name": "ipython",
    "version": 3
   },
   "file_extension": ".py",
   "mimetype": "text/x-python",
   "name": "python",
   "nbconvert_exporter": "python",
   "pygments_lexer": "ipython3",
   "version": "3.10.4"
  }
 },
 "nbformat": 4,
 "nbformat_minor": 5
}
